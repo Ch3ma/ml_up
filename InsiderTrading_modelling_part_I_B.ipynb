{
 "cells": [
  {
   "cell_type": "code",
   "execution_count": 1,
   "metadata": {},
   "outputs": [],
   "source": [
    "pth='E:/Documents/Educacion/Maestría/UP_DataScience/MachineLearning/insider_dwh/'"
   ]
  },
  {
   "cell_type": "code",
   "execution_count": 2,
   "metadata": {},
   "outputs": [],
   "source": [
    "import pandas as pd\n",
    "import numpy as np"
   ]
  },
  {
   "cell_type": "code",
   "execution_count": 3,
   "metadata": {},
   "outputs": [],
   "source": [
    "X_train = pd.read_csv(pth + \"ins_train_x_resampled.csv\")\n",
    "y_train = pd.read_csv(pth + \"ins_train_y_resampled.csv\")"
   ]
  },
  {
   "cell_type": "code",
   "execution_count": 4,
   "metadata": {},
   "outputs": [],
   "source": [
    "selected_var = ['leak_risk_cnt', 'leak_we_cnt', 'leak_off_hr_cnt', 'thief_we_cnt', 'thief_off_hr_cnt', 'sabotage_risk_cnt', 'sabotage_off_hr_cnt', 'adv', 'astronomy', 'banking', 'cars', 'chat', 'dating', 'downloads', 'gamble', 'games-misc', 'games-online', 'government', 'hacking', 'imagehosting', 'leaks', 'lingerie', 'news', 'other', 'radiotv', 'realestate', 'redirector', 'remotecontrol', 'restaurants', 'searchengines', 'shipping', 'spyware', 'telecommunication', 'tracker', 'travel', 'updatesites', 'urlshortener', 'warez', 'webmail', 'webradio', 'webtv', 'wellness', 'device_count', 'file_count', 'min_logon', 'avg_min_logon', 'med_min_logon', 'med_cnt_logon', 'max_logoff', 'avg_max_logoff', 'med_max_logoff', 'med_cnt_logoff', 'avg_logged_time', 'med_logged_time', 'cnt_unauthorized_log', 'isSupervisor', 'mean_salary', 'gender']"
   ]
  },
  {
   "cell_type": "code",
   "execution_count": 5,
   "metadata": {},
   "outputs": [
    {
     "name": "stderr",
     "output_type": "stream",
     "text": [
      "C:\\Users\\ulise\\Anaconda3\\envs\\master_ML\\lib\\site-packages\\sklearn\\svm\\base.py:193: FutureWarning: The default value of gamma will change from 'auto' to 'scale' in version 0.22 to account better for unscaled features. Set gamma explicitly to 'auto' or 'scale' to avoid this warning.\n",
      "  \"avoid this warning.\", FutureWarning)\n"
     ]
    },
    {
     "data": {
      "text/plain": [
       "SVC(C=1.0, cache_size=200, class_weight=None, coef0=0.0,\n",
       "    decision_function_shape='ovr', degree=3, gamma='auto_deprecated',\n",
       "    kernel='rbf', max_iter=-1, probability=False, random_state=2020,\n",
       "    shrinking=True, tol=0.001, verbose=False)"
      ]
     },
     "execution_count": 5,
     "metadata": {},
     "output_type": "execute_result"
    }
   ],
   "source": [
    "from sklearn.svm import SVC\n",
    "svclassifier = SVC(kernel='rbf', random_state=2020)\n",
    "svclassifier.fit(X_train[selected_var], np.ravel(y_train))"
   ]
  },
  {
   "cell_type": "code",
   "execution_count": 8,
   "metadata": {},
   "outputs": [],
   "source": [
    "test_x = pd.read_csv(pth + \"ins_test_x.csv\")\n",
    "test_y = pd.read_csv(pth + \"ins_test_y.csv\", header=None)\n",
    "\n",
    "test_x.drop([\"period\"], axis = 1, inplace = True)"
   ]
  },
  {
   "cell_type": "code",
   "execution_count": 9,
   "metadata": {},
   "outputs": [],
   "source": [
    "y_pred = svclassifier.predict(test_x[selected_var])"
   ]
  },
  {
   "cell_type": "code",
   "execution_count": 10,
   "metadata": {},
   "outputs": [
    {
     "name": "stdout",
     "output_type": "stream",
     "text": [
      "              precision    recall  f1-score   support\n",
      "\n",
      "         0.0       0.96      1.00      0.98      3775\n",
      "         1.0       1.00      0.62      0.77       418\n",
      "\n",
      "    accuracy                           0.96      4193\n",
      "   macro avg       0.98      0.81      0.87      4193\n",
      "weighted avg       0.96      0.96      0.96      4193\n",
      "\n"
     ]
    }
   ],
   "source": [
    "from sklearn.metrics import classification_report\n",
    "\n",
    "print(classification_report(test_y,y_pred))"
   ]
  },
  {
   "cell_type": "code",
   "execution_count": 11,
   "metadata": {},
   "outputs": [
    {
     "name": "stdout",
     "output_type": "stream",
     "text": [
      "[[3775    0]\n",
      " [ 157  261]]\n"
     ]
    }
   ],
   "source": [
    "from sklearn.metrics import confusion_matrix\n",
    "confusion_matrix = confusion_matrix(test_y, y_pred)\n",
    "print(confusion_matrix)"
   ]
  },
  {
   "cell_type": "code",
   "execution_count": 12,
   "metadata": {},
   "outputs": [
    {
     "name": "stdout",
     "output_type": "stream",
     "text": [
      "              precision    recall  f1-score   support\n",
      "\n",
      "         0.0       0.99      1.00      0.99      2557\n",
      "         1.0       0.00      0.00      0.00        35\n",
      "\n",
      "    accuracy                           0.99      2592\n",
      "   macro avg       0.49      0.50      0.50      2592\n",
      "weighted avg       0.97      0.99      0.98      2592\n",
      "\n"
     ]
    },
    {
     "name": "stderr",
     "output_type": "stream",
     "text": [
      "C:\\Users\\ulise\\Anaconda3\\envs\\master_ML\\lib\\site-packages\\sklearn\\metrics\\classification.py:1437: UndefinedMetricWarning: Precision and F-score are ill-defined and being set to 0.0 in labels with no predicted samples.\n",
      "  'precision', 'predicted', average, warn_for)\n"
     ]
    }
   ],
   "source": [
    "#out of time test\n",
    "insider_oot = pd.read_csv(pth + \"insider_OOT.csv\")\n",
    "insider_oot.head()\n",
    "\n",
    "test_x_oot = insider_oot.drop([\"period\", \"isInsider\"], axis = 1)\n",
    "test_y_oot = insider_oot[\"isInsider\"]\n",
    "test_y_oot=test_y_oot.to_numpy()\n",
    "y_pred_oot = svclassifier.predict(test_x_oot[selected_var])\n",
    "\n",
    "print(classification_report(test_y_oot,y_pred_oot))"
   ]
  },
  {
   "cell_type": "code",
   "execution_count": 13,
   "metadata": {},
   "outputs": [
    {
     "name": "stdout",
     "output_type": "stream",
     "text": [
      "[[2557    0]\n",
      " [  35    0]]\n"
     ]
    }
   ],
   "source": [
    "from sklearn.metrics import confusion_matrix\n",
    "confusion_matrix = confusion_matrix(test_y_oot.tolist(),y_pred_oot.tolist())\n",
    "print(confusion_matrix)"
   ]
  }
 ],
 "metadata": {
  "kernelspec": {
   "display_name": "Python 3",
   "language": "python",
   "name": "python3"
  },
  "language_info": {
   "codemirror_mode": {
    "name": "ipython",
    "version": 3
   },
   "file_extension": ".py",
   "mimetype": "text/x-python",
   "name": "python",
   "nbconvert_exporter": "python",
   "pygments_lexer": "ipython3",
   "version": "3.6.8"
  }
 },
 "nbformat": 4,
 "nbformat_minor": 2
}
