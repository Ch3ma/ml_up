{
 "cells": [
  {
   "cell_type": "code",
   "execution_count": 0,
   "metadata": {
    "colab": {
     "base_uri": "https://localhost:8080/",
     "height": 101
    },
    "colab_type": "code",
    "id": "dDs9MvrDDieK",
    "outputId": "83e7f724-fe2c-4fd1-f6cc-5af4ab9e97c9"
   },
   "outputs": [
    {
     "name": "stdout",
     "output_type": "stream",
     "text": [
      "[nltk_data] Downloading package stopwords to /root/nltk_data...\n",
      "[nltk_data]   Unzipping corpora/stopwords.zip.\n",
      "[nltk_data] Downloading package punkt to /root/nltk_data...\n",
      "[nltk_data]   Unzipping tokenizers/punkt.zip.\n"
     ]
    },
    {
     "data": {
      "text/plain": [
       "True"
      ]
     },
     "execution_count": 2,
     "metadata": {
      "tags": []
     },
     "output_type": "execute_result"
    }
   ],
   "source": [
    "import os\n",
    "import pandas as pd\n",
    "import numpy as np\n",
    "import datetime\n",
    "import nltk\n",
    "nltk.download('stopwords')\n",
    "nltk.download('punkt')"
   ]
  },
  {
   "cell_type": "code",
   "execution_count": 0,
   "metadata": {
    "colab": {
     "base_uri": "https://localhost:8080/",
     "height": 50
    },
    "colab_type": "code",
    "id": "kHSn28AqJhag",
    "outputId": "c56e56d3-9643-4afb-e065-04f6e3f39bf5"
   },
   "outputs": [
    {
     "name": "stdout",
     "output_type": "stream",
     "text": [
      "CPU times: user 20.4 s, sys: 2.72 s, total: 23.1 s\n",
      "Wall time: 26.6 s\n"
     ]
    }
   ],
   "source": [
    "%%time\n",
    "email_csv = pd.read_csv(\"./drive/My Drive/DatosInsider/r4.2/Copia de email.csv\")"
   ]
  },
  {
   "cell_type": "code",
   "execution_count": 0,
   "metadata": {
    "colab": {
     "base_uri": "https://localhost:8080/",
     "height": 534
    },
    "colab_type": "code",
    "id": "RlkXkU9XH1Xj",
    "outputId": "4212cdc2-7b2c-4458-c242-503578ed80fd"
   },
   "outputs": [
    {
     "data": {
      "text/html": [
       "<div>\n",
       "<style scoped>\n",
       "    .dataframe tbody tr th:only-of-type {\n",
       "        vertical-align: middle;\n",
       "    }\n",
       "\n",
       "    .dataframe tbody tr th {\n",
       "        vertical-align: top;\n",
       "    }\n",
       "\n",
       "    .dataframe thead th {\n",
       "        text-align: right;\n",
       "    }\n",
       "</style>\n",
       "<table border=\"1\" class=\"dataframe\">\n",
       "  <thead>\n",
       "    <tr style=\"text-align: right;\">\n",
       "      <th></th>\n",
       "      <th>id</th>\n",
       "      <th>date</th>\n",
       "      <th>user</th>\n",
       "      <th>pc</th>\n",
       "      <th>to</th>\n",
       "      <th>cc</th>\n",
       "      <th>bcc</th>\n",
       "      <th>from</th>\n",
       "      <th>size</th>\n",
       "      <th>attachments</th>\n",
       "      <th>content</th>\n",
       "    </tr>\n",
       "  </thead>\n",
       "  <tbody>\n",
       "    <tr>\n",
       "      <th>0</th>\n",
       "      <td>{R3I7-S4TX96FG-8219JWFF}</td>\n",
       "      <td>01/02/2010 07:11:45</td>\n",
       "      <td>LAP0338</td>\n",
       "      <td>PC-5758</td>\n",
       "      <td>Dean.Flynn.Hines@dtaa.com;Wade_Harrison@lockhe...</td>\n",
       "      <td>Nathaniel.Hunter.Heath@dtaa.com</td>\n",
       "      <td>NaN</td>\n",
       "      <td>Lynn.Adena.Pratt@dtaa.com</td>\n",
       "      <td>25830</td>\n",
       "      <td>0</td>\n",
       "      <td>middle f2 systems 4 july techniques powerful d...</td>\n",
       "    </tr>\n",
       "    <tr>\n",
       "      <th>1</th>\n",
       "      <td>{R0R9-E4GL59IK-2907OSWJ}</td>\n",
       "      <td>01/02/2010 07:12:16</td>\n",
       "      <td>MOH0273</td>\n",
       "      <td>PC-6699</td>\n",
       "      <td>Odonnell-Gage@bellsouth.net</td>\n",
       "      <td>NaN</td>\n",
       "      <td>NaN</td>\n",
       "      <td>MOH68@optonline.net</td>\n",
       "      <td>29942</td>\n",
       "      <td>0</td>\n",
       "      <td>the breaking called allied reservations former...</td>\n",
       "    </tr>\n",
       "    <tr>\n",
       "      <th>2</th>\n",
       "      <td>{G2B2-A8XY58CP-2847ZJZL}</td>\n",
       "      <td>01/02/2010 07:13:00</td>\n",
       "      <td>LAP0338</td>\n",
       "      <td>PC-5758</td>\n",
       "      <td>Penelope_Colon@netzero.com</td>\n",
       "      <td>NaN</td>\n",
       "      <td>NaN</td>\n",
       "      <td>Lynn_A_Pratt@earthlink.net</td>\n",
       "      <td>28780</td>\n",
       "      <td>0</td>\n",
       "      <td>slowly this uncinus winter beneath addition ex...</td>\n",
       "    </tr>\n",
       "    <tr>\n",
       "      <th>3</th>\n",
       "      <td>{A3A9-F4TH89AA-8318GFGK}</td>\n",
       "      <td>01/02/2010 07:13:17</td>\n",
       "      <td>LAP0338</td>\n",
       "      <td>PC-5758</td>\n",
       "      <td>Judith_Hayden@comcast.net</td>\n",
       "      <td>NaN</td>\n",
       "      <td>NaN</td>\n",
       "      <td>Lynn_A_Pratt@earthlink.net</td>\n",
       "      <td>21907</td>\n",
       "      <td>0</td>\n",
       "      <td>400 other difficult land cirrocumulus powered ...</td>\n",
       "    </tr>\n",
       "    <tr>\n",
       "      <th>4</th>\n",
       "      <td>{E8B7-C8FZ88UF-2946RUQQ}</td>\n",
       "      <td>01/02/2010 07:13:28</td>\n",
       "      <td>MOH0273</td>\n",
       "      <td>PC-6699</td>\n",
       "      <td>Bond-Raymond@verizon.net;Alea_Ferrell@msn.com;...</td>\n",
       "      <td>NaN</td>\n",
       "      <td>Odonnell-Gage@bellsouth.net</td>\n",
       "      <td>MOH68@optonline.net</td>\n",
       "      <td>17319</td>\n",
       "      <td>0</td>\n",
       "      <td>this kmh october holliswood number advised unu...</td>\n",
       "    </tr>\n",
       "  </tbody>\n",
       "</table>\n",
       "</div>"
      ],
      "text/plain": [
       "                         id  ...                                            content\n",
       "0  {R3I7-S4TX96FG-8219JWFF}  ...  middle f2 systems 4 july techniques powerful d...\n",
       "1  {R0R9-E4GL59IK-2907OSWJ}  ...  the breaking called allied reservations former...\n",
       "2  {G2B2-A8XY58CP-2847ZJZL}  ...  slowly this uncinus winter beneath addition ex...\n",
       "3  {A3A9-F4TH89AA-8318GFGK}  ...  400 other difficult land cirrocumulus powered ...\n",
       "4  {E8B7-C8FZ88UF-2946RUQQ}  ...  this kmh october holliswood number advised unu...\n",
       "\n",
       "[5 rows x 11 columns]"
      ]
     },
     "execution_count": 3,
     "metadata": {
      "tags": []
     },
     "output_type": "execute_result"
    }
   ],
   "source": [
    "email_csv.head()"
   ]
  },
  {
   "cell_type": "code",
   "execution_count": 0,
   "metadata": {
    "colab": {},
    "colab_type": "code",
    "id": "QSM_yQvZLiy2"
   },
   "outputs": [],
   "source": [
    "###from LDAP, find initial and last date of existence!\n",
    "from os import listdir\n",
    "from os.path import isfile, join\n",
    "pth = \"./drive/My Drive/DatosInsider/r4.2/LDAP\"\n",
    "onlyfiles = [f for f in listdir(pth) if isfile(join(pth, f))]"
   ]
  },
  {
   "cell_type": "code",
   "execution_count": 0,
   "metadata": {
    "colab": {
     "base_uri": "https://localhost:8080/",
     "height": 319
    },
    "colab_type": "code",
    "id": "aK0w2AKiL2NC",
    "outputId": "69b183a8-3b09-4a60-d8b3-c4bbe51ec083"
   },
   "outputs": [
    {
     "data": {
      "text/plain": [
       "['2009-12.csv',\n",
       " '2010-01.csv',\n",
       " '2010-02.csv',\n",
       " '2010-05.csv',\n",
       " '2010-12.csv',\n",
       " '2010-03.csv',\n",
       " '2010-11.csv',\n",
       " '2010-06.csv',\n",
       " '2010-08.csv',\n",
       " '2010-04.csv',\n",
       " '2011-02.csv',\n",
       " '2011-01.csv',\n",
       " '2010-07.csv',\n",
       " '2010-09.csv',\n",
       " '2011-03.csv',\n",
       " '2011-04.csv',\n",
       " '2010-10.csv',\n",
       " '2011-05.csv']"
      ]
     },
     "execution_count": 19,
     "metadata": {
      "tags": []
     },
     "output_type": "execute_result"
    }
   ],
   "source": [
    "onlyfiles"
   ]
  },
  {
   "cell_type": "code",
   "execution_count": 0,
   "metadata": {
    "colab": {},
    "colab_type": "code",
    "id": "EFGOrUBNL2Kl"
   },
   "outputs": [],
   "source": [
    "full = pd.DataFrame()\n",
    "for i in onlyfiles:\n",
    "    if \"employee_data\" in i:\n",
    "        continue\n",
    "    tmp = pd.read_csv(pth + \"/\" + i)\n",
    "    tmp[\"date\"] = i.split(\".\")[0]\n",
    "    full = pd.concat([full, tmp])"
   ]
  },
  {
   "cell_type": "code",
   "execution_count": 0,
   "metadata": {
    "colab": {
     "base_uri": "https://localhost:8080/",
     "height": 366
    },
    "colab_type": "code",
    "id": "makBJhb-L2IF",
    "outputId": "917fe6f4-1f7d-47cb-d7c9-ce3d825d07dc"
   },
   "outputs": [
    {
     "data": {
      "text/html": [
       "<div>\n",
       "<style scoped>\n",
       "    .dataframe tbody tr th:only-of-type {\n",
       "        vertical-align: middle;\n",
       "    }\n",
       "\n",
       "    .dataframe tbody tr th {\n",
       "        vertical-align: top;\n",
       "    }\n",
       "\n",
       "    .dataframe thead th {\n",
       "        text-align: right;\n",
       "    }\n",
       "</style>\n",
       "<table border=\"1\" class=\"dataframe\">\n",
       "  <thead>\n",
       "    <tr style=\"text-align: right;\">\n",
       "      <th></th>\n",
       "      <th>employee_name</th>\n",
       "      <th>user_id</th>\n",
       "      <th>email</th>\n",
       "      <th>role</th>\n",
       "      <th>business_unit</th>\n",
       "      <th>functional_unit</th>\n",
       "      <th>department</th>\n",
       "      <th>team</th>\n",
       "      <th>supervisor</th>\n",
       "      <th>date</th>\n",
       "    </tr>\n",
       "  </thead>\n",
       "  <tbody>\n",
       "    <tr>\n",
       "      <th>0</th>\n",
       "      <td>Calvin Edan Love</td>\n",
       "      <td>CEL0561</td>\n",
       "      <td>Calvin.Edan.Love@dtaa.com</td>\n",
       "      <td>ComputerProgrammer</td>\n",
       "      <td>1</td>\n",
       "      <td>2 - ResearchAndEngineering</td>\n",
       "      <td>2 - SoftwareManagement</td>\n",
       "      <td>3 - Software</td>\n",
       "      <td>Stephanie Briar Harrington</td>\n",
       "      <td>2009-12</td>\n",
       "    </tr>\n",
       "    <tr>\n",
       "      <th>1</th>\n",
       "      <td>Christine Reagan Deleon</td>\n",
       "      <td>CRD0624</td>\n",
       "      <td>Christine.Reagan.Deleon@dtaa.com</td>\n",
       "      <td>Salesman</td>\n",
       "      <td>1</td>\n",
       "      <td>5 - SalesAndMarketing</td>\n",
       "      <td>2 - Sales</td>\n",
       "      <td>3 - RegionalSales</td>\n",
       "      <td>Winter Veda Burks</td>\n",
       "      <td>2009-12</td>\n",
       "    </tr>\n",
       "    <tr>\n",
       "      <th>2</th>\n",
       "      <td>Jade Felicia Caldwell</td>\n",
       "      <td>JFC0557</td>\n",
       "      <td>Jade.Felicia.Caldwell@dtaa.com</td>\n",
       "      <td>SoftwareEngineer</td>\n",
       "      <td>1</td>\n",
       "      <td>2 - ResearchAndEngineering</td>\n",
       "      <td>2 - SoftwareManagement</td>\n",
       "      <td>3 - Software</td>\n",
       "      <td>Stephanie Briar Harrington</td>\n",
       "      <td>2009-12</td>\n",
       "    </tr>\n",
       "    <tr>\n",
       "      <th>3</th>\n",
       "      <td>Aquila Stewart Dejesus</td>\n",
       "      <td>ASD0577</td>\n",
       "      <td>Aquila.Stewart.Dejesus@dtaa.com</td>\n",
       "      <td>ProductionLineWorker</td>\n",
       "      <td>1</td>\n",
       "      <td>3 - Manufacturing</td>\n",
       "      <td>3 - Assembly</td>\n",
       "      <td>3 - AssemblyDept</td>\n",
       "      <td>Whilemina Pandora England</td>\n",
       "      <td>2009-12</td>\n",
       "    </tr>\n",
       "    <tr>\n",
       "      <th>4</th>\n",
       "      <td>Micah Abdul Rojas</td>\n",
       "      <td>MAR0955</td>\n",
       "      <td>Micah.Abdul.Rojas@dtaa.com</td>\n",
       "      <td>ProductionLineWorker</td>\n",
       "      <td>1</td>\n",
       "      <td>3 - Manufacturing</td>\n",
       "      <td>3 - Assembly</td>\n",
       "      <td>6 - AssemblyDept</td>\n",
       "      <td>Sandra Beverly Diaz</td>\n",
       "      <td>2009-12</td>\n",
       "    </tr>\n",
       "  </tbody>\n",
       "</table>\n",
       "</div>"
      ],
      "text/plain": [
       "             employee_name  user_id  ...                  supervisor     date\n",
       "0         Calvin Edan Love  CEL0561  ...  Stephanie Briar Harrington  2009-12\n",
       "1  Christine Reagan Deleon  CRD0624  ...           Winter Veda Burks  2009-12\n",
       "2    Jade Felicia Caldwell  JFC0557  ...  Stephanie Briar Harrington  2009-12\n",
       "3   Aquila Stewart Dejesus  ASD0577  ...   Whilemina Pandora England  2009-12\n",
       "4        Micah Abdul Rojas  MAR0955  ...         Sandra Beverly Diaz  2009-12\n",
       "\n",
       "[5 rows x 10 columns]"
      ]
     },
     "execution_count": 21,
     "metadata": {
      "tags": []
     },
     "output_type": "execute_result"
    }
   ],
   "source": [
    "full.head()"
   ]
  },
  {
   "cell_type": "code",
   "execution_count": 0,
   "metadata": {
    "colab": {},
    "colab_type": "code",
    "id": "UinqdqzFL2Da"
   },
   "outputs": [],
   "source": [
    "#setting the key value\n",
    "full[\"date\"] = full[\"date\"].map(lambda x: datetime.datetime.strptime(x, \"%Y-%m\"))"
   ]
  },
  {
   "cell_type": "code",
   "execution_count": 0,
   "metadata": {
    "colab": {
     "base_uri": "https://localhost:8080/",
     "height": 461
    },
    "colab_type": "code",
    "id": "4AfszA9xL2A1",
    "outputId": "9c00a8a5-e50b-4cac-b37d-2777b717d032"
   },
   "outputs": [
    {
     "data": {
      "text/html": [
       "<div>\n",
       "<style scoped>\n",
       "    .dataframe tbody tr th:only-of-type {\n",
       "        vertical-align: middle;\n",
       "    }\n",
       "\n",
       "    .dataframe tbody tr th {\n",
       "        vertical-align: top;\n",
       "    }\n",
       "\n",
       "    .dataframe thead tr th {\n",
       "        text-align: left;\n",
       "    }\n",
       "\n",
       "    .dataframe thead tr:last-of-type th {\n",
       "        text-align: right;\n",
       "    }\n",
       "</style>\n",
       "<table border=\"1\" class=\"dataframe\">\n",
       "  <thead>\n",
       "    <tr>\n",
       "      <th></th>\n",
       "      <th colspan=\"2\" halign=\"left\">date</th>\n",
       "    </tr>\n",
       "    <tr>\n",
       "      <th></th>\n",
       "      <th>min</th>\n",
       "      <th>max</th>\n",
       "    </tr>\n",
       "    <tr>\n",
       "      <th>user_id</th>\n",
       "      <th></th>\n",
       "      <th></th>\n",
       "    </tr>\n",
       "  </thead>\n",
       "  <tbody>\n",
       "    <tr>\n",
       "      <th>AAE0190</th>\n",
       "      <td>2009-12-01</td>\n",
       "      <td>2011-05-01</td>\n",
       "    </tr>\n",
       "    <tr>\n",
       "      <th>AAF0535</th>\n",
       "      <td>2009-12-01</td>\n",
       "      <td>2010-07-01</td>\n",
       "    </tr>\n",
       "    <tr>\n",
       "      <th>AAF0791</th>\n",
       "      <td>2009-12-01</td>\n",
       "      <td>2011-05-01</td>\n",
       "    </tr>\n",
       "    <tr>\n",
       "      <th>AAL0706</th>\n",
       "      <td>2009-12-01</td>\n",
       "      <td>2011-05-01</td>\n",
       "    </tr>\n",
       "    <tr>\n",
       "      <th>AAM0658</th>\n",
       "      <td>2009-12-01</td>\n",
       "      <td>2010-10-01</td>\n",
       "    </tr>\n",
       "    <tr>\n",
       "      <th>...</th>\n",
       "      <td>...</td>\n",
       "      <td>...</td>\n",
       "    </tr>\n",
       "    <tr>\n",
       "      <th>ZKS0899</th>\n",
       "      <td>2009-12-01</td>\n",
       "      <td>2011-05-01</td>\n",
       "    </tr>\n",
       "    <tr>\n",
       "      <th>ZMC0284</th>\n",
       "      <td>2009-12-01</td>\n",
       "      <td>2011-05-01</td>\n",
       "    </tr>\n",
       "    <tr>\n",
       "      <th>ZSB0649</th>\n",
       "      <td>2009-12-01</td>\n",
       "      <td>2011-05-01</td>\n",
       "    </tr>\n",
       "    <tr>\n",
       "      <th>ZSK0258</th>\n",
       "      <td>2009-12-01</td>\n",
       "      <td>2011-05-01</td>\n",
       "    </tr>\n",
       "    <tr>\n",
       "      <th>ZSL0305</th>\n",
       "      <td>2009-12-01</td>\n",
       "      <td>2011-05-01</td>\n",
       "    </tr>\n",
       "  </tbody>\n",
       "</table>\n",
       "<p>1000 rows × 2 columns</p>\n",
       "</div>"
      ],
      "text/plain": [
       "              date           \n",
       "               min        max\n",
       "user_id                      \n",
       "AAE0190 2009-12-01 2011-05-01\n",
       "AAF0535 2009-12-01 2010-07-01\n",
       "AAF0791 2009-12-01 2011-05-01\n",
       "AAL0706 2009-12-01 2011-05-01\n",
       "AAM0658 2009-12-01 2010-10-01\n",
       "...            ...        ...\n",
       "ZKS0899 2009-12-01 2011-05-01\n",
       "ZMC0284 2009-12-01 2011-05-01\n",
       "ZSB0649 2009-12-01 2011-05-01\n",
       "ZSK0258 2009-12-01 2011-05-01\n",
       "ZSL0305 2009-12-01 2011-05-01\n",
       "\n",
       "[1000 rows x 2 columns]"
      ]
     },
     "execution_count": 23,
     "metadata": {
      "tags": []
     },
     "output_type": "execute_result"
    }
   ],
   "source": [
    "#this aggregation renders the min and max date, with the max date, we could assume the date of termination\n",
    "full.groupby(\"user_id\").agg({\"date\":[\"min\",\"max\"]})"
   ]
  },
  {
   "cell_type": "code",
   "execution_count": 0,
   "metadata": {
    "colab": {},
    "colab_type": "code",
    "id": "g5_sJDX4vY4E"
   },
   "outputs": [],
   "source": [
    "#adding yo employee_data the min and max date of appearance.\n",
    "ed = pd.read_csv(\"./drive/My Drive/DatosInsider/DWH_tables/\" + \"/employee_data.csv\")\n",
    "fll = full.groupby(\"user_id\").agg({\"date\":[\"min\",\"max\"]})\n",
    "fll.columns = fll.columns.droplevel(0)\n",
    "fll = fll.rename_axis(None, axis = 1)\n"
   ]
  },
  {
   "cell_type": "code",
   "execution_count": 0,
   "metadata": {
    "colab": {
     "base_uri": "https://localhost:8080/",
     "height": 195
    },
    "colab_type": "code",
    "id": "tmLS_PRWx0-E",
    "outputId": "e4bb110a-d85a-44dc-e7c6-333ed6a3b362"
   },
   "outputs": [
    {
     "data": {
      "text/html": [
       "<div>\n",
       "<style scoped>\n",
       "    .dataframe tbody tr th:only-of-type {\n",
       "        vertical-align: middle;\n",
       "    }\n",
       "\n",
       "    .dataframe tbody tr th {\n",
       "        vertical-align: top;\n",
       "    }\n",
       "\n",
       "    .dataframe thead th {\n",
       "        text-align: right;\n",
       "    }\n",
       "</style>\n",
       "<table border=\"1\" class=\"dataframe\">\n",
       "  <thead>\n",
       "    <tr style=\"text-align: right;\">\n",
       "      <th></th>\n",
       "      <th>Unnamed: 0</th>\n",
       "      <th>user_id</th>\n",
       "      <th>employee_name</th>\n",
       "      <th>gender</th>\n",
       "      <th>gender_probability</th>\n",
       "    </tr>\n",
       "  </thead>\n",
       "  <tbody>\n",
       "    <tr>\n",
       "      <th>0</th>\n",
       "      <td>0</td>\n",
       "      <td>CEL0561</td>\n",
       "      <td>Calvin Edan Love</td>\n",
       "      <td>male</td>\n",
       "      <td>0.99</td>\n",
       "    </tr>\n",
       "    <tr>\n",
       "      <th>1</th>\n",
       "      <td>1</td>\n",
       "      <td>CRD0624</td>\n",
       "      <td>Christine Reagan Deleon</td>\n",
       "      <td>female</td>\n",
       "      <td>0.99</td>\n",
       "    </tr>\n",
       "    <tr>\n",
       "      <th>2</th>\n",
       "      <td>2</td>\n",
       "      <td>JFC0557</td>\n",
       "      <td>Jade Felicia Caldwell</td>\n",
       "      <td>female</td>\n",
       "      <td>0.91</td>\n",
       "    </tr>\n",
       "    <tr>\n",
       "      <th>3</th>\n",
       "      <td>3</td>\n",
       "      <td>ASD0577</td>\n",
       "      <td>Aquila Stewart Dejesus</td>\n",
       "      <td>male</td>\n",
       "      <td>0.82</td>\n",
       "    </tr>\n",
       "    <tr>\n",
       "      <th>4</th>\n",
       "      <td>4</td>\n",
       "      <td>MAR0955</td>\n",
       "      <td>Micah Abdul Rojas</td>\n",
       "      <td>male</td>\n",
       "      <td>0.80</td>\n",
       "    </tr>\n",
       "  </tbody>\n",
       "</table>\n",
       "</div>"
      ],
      "text/plain": [
       "   Unnamed: 0  user_id            employee_name  gender  gender_probability\n",
       "0           0  CEL0561         Calvin Edan Love    male                0.99\n",
       "1           1  CRD0624  Christine Reagan Deleon  female                0.99\n",
       "2           2  JFC0557    Jade Felicia Caldwell  female                0.91\n",
       "3           3  ASD0577   Aquila Stewart Dejesus    male                0.82\n",
       "4           4  MAR0955        Micah Abdul Rojas    male                0.80"
      ]
     },
     "execution_count": 26,
     "metadata": {
      "tags": []
     },
     "output_type": "execute_result"
    }
   ],
   "source": [
    "ed.head()"
   ]
  },
  {
   "cell_type": "code",
   "execution_count": 0,
   "metadata": {
    "colab": {},
    "colab_type": "code",
    "id": "8ulGqjAQ23ZD"
   },
   "outputs": [],
   "source": [
    "#resetting index\n",
    "fll.reset_index(level=0, inplace=True)"
   ]
  },
  {
   "cell_type": "code",
   "execution_count": 0,
   "metadata": {
    "colab": {
     "base_uri": "https://localhost:8080/",
     "height": 195
    },
    "colab_type": "code",
    "id": "Os3mCtjv0mlV",
    "outputId": "87872664-4298-4022-afdb-ab678877aa2b"
   },
   "outputs": [
    {
     "data": {
      "text/html": [
       "<div>\n",
       "<style scoped>\n",
       "    .dataframe tbody tr th:only-of-type {\n",
       "        vertical-align: middle;\n",
       "    }\n",
       "\n",
       "    .dataframe tbody tr th {\n",
       "        vertical-align: top;\n",
       "    }\n",
       "\n",
       "    .dataframe thead th {\n",
       "        text-align: right;\n",
       "    }\n",
       "</style>\n",
       "<table border=\"1\" class=\"dataframe\">\n",
       "  <thead>\n",
       "    <tr style=\"text-align: right;\">\n",
       "      <th></th>\n",
       "      <th>user_id</th>\n",
       "      <th>min</th>\n",
       "      <th>max</th>\n",
       "    </tr>\n",
       "  </thead>\n",
       "  <tbody>\n",
       "    <tr>\n",
       "      <th>0</th>\n",
       "      <td>AAE0190</td>\n",
       "      <td>2009-12-01</td>\n",
       "      <td>2011-05-01</td>\n",
       "    </tr>\n",
       "    <tr>\n",
       "      <th>1</th>\n",
       "      <td>AAF0535</td>\n",
       "      <td>2009-12-01</td>\n",
       "      <td>2010-07-01</td>\n",
       "    </tr>\n",
       "    <tr>\n",
       "      <th>2</th>\n",
       "      <td>AAF0791</td>\n",
       "      <td>2009-12-01</td>\n",
       "      <td>2011-05-01</td>\n",
       "    </tr>\n",
       "    <tr>\n",
       "      <th>3</th>\n",
       "      <td>AAL0706</td>\n",
       "      <td>2009-12-01</td>\n",
       "      <td>2011-05-01</td>\n",
       "    </tr>\n",
       "    <tr>\n",
       "      <th>4</th>\n",
       "      <td>AAM0658</td>\n",
       "      <td>2009-12-01</td>\n",
       "      <td>2010-10-01</td>\n",
       "    </tr>\n",
       "  </tbody>\n",
       "</table>\n",
       "</div>"
      ],
      "text/plain": [
       "   user_id        min        max\n",
       "0  AAE0190 2009-12-01 2011-05-01\n",
       "1  AAF0535 2009-12-01 2010-07-01\n",
       "2  AAF0791 2009-12-01 2011-05-01\n",
       "3  AAL0706 2009-12-01 2011-05-01\n",
       "4  AAM0658 2009-12-01 2010-10-01"
      ]
     },
     "execution_count": 28,
     "metadata": {
      "tags": []
     },
     "output_type": "execute_result"
    }
   ],
   "source": [
    "fll.head()"
   ]
  },
  {
   "cell_type": "code",
   "execution_count": 0,
   "metadata": {
    "colab": {},
    "colab_type": "code",
    "id": "w00Hhx4s3b7t"
   },
   "outputs": [],
   "source": [
    "dd = ed.merge(fll, how = 'inner', on = \"user_id\")\n",
    "dd.to_csv(\"./drive/My Drive/DatosInsider/DWH_tables/employee_data_dates.csv\")\n"
   ]
  },
  {
   "cell_type": "code",
   "execution_count": 0,
   "metadata": {
    "colab": {
     "base_uri": "https://localhost:8080/",
     "height": 756
    },
    "colab_type": "code",
    "id": "TqSKGzhxKBJF",
    "outputId": "697ccfd4-1603-4234-828e-d302c340a6f6"
   },
   "outputs": [
    {
     "data": {
      "text/plain": [
       "role\n",
       "Accountant                    54\n",
       "AdministrativeAssistant      615\n",
       "AdministrativeStaff           11\n",
       "AssemblySupervisor           108\n",
       "Attorney                      54\n",
       "ChiefEngineer                126\n",
       "ComputerProgrammer           392\n",
       "ComputerScientist            523\n",
       "ComputerTrainer               36\n",
       "Director                     216\n",
       "ElectricalEngineer           479\n",
       "Engineer                      46\n",
       "FieldServiceEngineer          90\n",
       "FinancialAnalyst              18\n",
       "HardwareEngineer             124\n",
       "HealthSafetyEngineer          54\n",
       "HumanResourceSpecialist      229\n",
       "ITAdmin                      577\n",
       "IndustrialEngineer           117\n",
       "InstructionalCoordinator      28\n",
       "LabManager                   108\n",
       "ManagementTrainer             36\n",
       "Manager                      432\n",
       "MaterialsEngineer            132\n",
       "Mathematician                510\n",
       "MechanicalEngineer           450\n",
       "Nurse                         18\n",
       "NursePractitioner             54\n",
       "Physicist                    359\n",
       "President                     18\n",
       "ProductionLineWorker        3045\n",
       "PurchasingClerk               86\n",
       "Salesman                    2474\n",
       "Scientist                    688\n",
       "SecurityGuard                265\n",
       "SoftwareEngineer             715\n",
       "Statistician                  83\n",
       "SystemsEngineer              332\n",
       "TechnicalTrainer              18\n",
       "Technician                  2593\n",
       "TestEngineer                 322\n",
       "VicePresident                108\n",
       "Name: user_id, dtype: int64"
      ]
     },
     "execution_count": 30,
     "metadata": {
      "tags": []
     },
     "output_type": "execute_result"
    }
   ],
   "source": [
    "full.groupby(\"role\").count()[\"user_id\"]"
   ]
  },
  {
   "cell_type": "code",
   "execution_count": 0,
   "metadata": {
    "colab": {
     "base_uri": "https://localhost:8080/",
     "height": 195
    },
    "colab_type": "code",
    "id": "1TJTedZAKBG_",
    "outputId": "5b81744c-21d3-4407-f936-dc97fee0515e"
   },
   "outputs": [
    {
     "data": {
      "text/html": [
       "<div>\n",
       "<style scoped>\n",
       "    .dataframe tbody tr th:only-of-type {\n",
       "        vertical-align: middle;\n",
       "    }\n",
       "\n",
       "    .dataframe tbody tr th {\n",
       "        vertical-align: top;\n",
       "    }\n",
       "\n",
       "    .dataframe thead th {\n",
       "        text-align: right;\n",
       "    }\n",
       "</style>\n",
       "<table border=\"1\" class=\"dataframe\">\n",
       "  <thead>\n",
       "    <tr style=\"text-align: right;\">\n",
       "      <th></th>\n",
       "      <th>role</th>\n",
       "      <th>Mean</th>\n",
       "      <th>Range</th>\n",
       "      <th>Comments</th>\n",
       "    </tr>\n",
       "  </thead>\n",
       "  <tbody>\n",
       "    <tr>\n",
       "      <th>0</th>\n",
       "      <td>Accountant</td>\n",
       "      <td>51024</td>\n",
       "      <td>$36k - $71k</td>\n",
       "      <td>NaN</td>\n",
       "    </tr>\n",
       "    <tr>\n",
       "      <th>1</th>\n",
       "      <td>AdministrativeAssistant</td>\n",
       "      <td>39361</td>\n",
       "      <td>$29k - $55k</td>\n",
       "      <td>NaN</td>\n",
       "    </tr>\n",
       "    <tr>\n",
       "      <th>2</th>\n",
       "      <td>AdministrativeStaff</td>\n",
       "      <td>39362</td>\n",
       "      <td>$29k - $55k</td>\n",
       "      <td>This is the same as Administrative Assistant</td>\n",
       "    </tr>\n",
       "    <tr>\n",
       "      <th>3</th>\n",
       "      <td>AssemblySupervisor</td>\n",
       "      <td>57295</td>\n",
       "      <td>$39k - $78k</td>\n",
       "      <td>NaN</td>\n",
       "    </tr>\n",
       "    <tr>\n",
       "      <th>4</th>\n",
       "      <td>Attorney</td>\n",
       "      <td>83905</td>\n",
       "      <td>$51k - $155k</td>\n",
       "      <td>NaN</td>\n",
       "    </tr>\n",
       "  </tbody>\n",
       "</table>\n",
       "</div>"
      ],
      "text/plain": [
       "                            role  ...                                      Comments\n",
       "0                    Accountant   ...                                           NaN\n",
       "1       AdministrativeAssistant   ...                                           NaN\n",
       "2           AdministrativeStaff   ...  This is the same as Administrative Assistant\n",
       "3  AssemblySupervisor             ...                                           NaN\n",
       "4                      Attorney   ...                                           NaN\n",
       "\n",
       "[5 rows x 4 columns]"
      ]
     },
     "execution_count": 31,
     "metadata": {
      "tags": []
     },
     "output_type": "execute_result"
    }
   ],
   "source": [
    "#pairing employees with \n",
    "sal = pd.read_csv(\"./drive/My Drive/DatosInsider/r4.2/JobSalaries.csv\")\n",
    "sal.columns = [\"role\", \"Mean\", \"Range\", \"Comments\"]\n",
    "sal.head()"
   ]
  },
  {
   "cell_type": "code",
   "execution_count": 0,
   "metadata": {
    "colab": {},
    "colab_type": "code",
    "id": "JGF7gA1UKBEX"
   },
   "outputs": [],
   "source": [
    "#removing trailing spaces\n",
    "sal[\"role\"] = sal[\"role\"].map(lambda x: x.strip())"
   ]
  },
  {
   "cell_type": "code",
   "execution_count": 0,
   "metadata": {
    "colab": {
     "base_uri": "https://localhost:8080/",
     "height": 383
    },
    "colab_type": "code",
    "id": "Fx2oFSD2jwNb",
    "outputId": "f68c0404-8097-4152-8281-a4c9f22475cb"
   },
   "outputs": [
    {
     "data": {
      "text/html": [
       "<div>\n",
       "<style scoped>\n",
       "    .dataframe tbody tr th:only-of-type {\n",
       "        vertical-align: middle;\n",
       "    }\n",
       "\n",
       "    .dataframe tbody tr th {\n",
       "        vertical-align: top;\n",
       "    }\n",
       "\n",
       "    .dataframe thead th {\n",
       "        text-align: right;\n",
       "    }\n",
       "</style>\n",
       "<table border=\"1\" class=\"dataframe\">\n",
       "  <thead>\n",
       "    <tr style=\"text-align: right;\">\n",
       "      <th></th>\n",
       "      <th>employee_name</th>\n",
       "      <th>user_id</th>\n",
       "      <th>email</th>\n",
       "      <th>role</th>\n",
       "      <th>business_unit</th>\n",
       "      <th>functional_unit</th>\n",
       "      <th>department</th>\n",
       "      <th>team</th>\n",
       "      <th>supervisor</th>\n",
       "      <th>date</th>\n",
       "      <th>Mean</th>\n",
       "      <th>Range</th>\n",
       "      <th>Comments</th>\n",
       "    </tr>\n",
       "  </thead>\n",
       "  <tbody>\n",
       "    <tr>\n",
       "      <th>0</th>\n",
       "      <td>Calvin Edan Love</td>\n",
       "      <td>CEL0561</td>\n",
       "      <td>Calvin.Edan.Love@dtaa.com</td>\n",
       "      <td>ComputerProgrammer</td>\n",
       "      <td>1</td>\n",
       "      <td>2 - ResearchAndEngineering</td>\n",
       "      <td>2 - SoftwareManagement</td>\n",
       "      <td>3 - Software</td>\n",
       "      <td>Stephanie Briar Harrington</td>\n",
       "      <td>2009-12-01</td>\n",
       "      <td>62841</td>\n",
       "      <td>$41k - $99k</td>\n",
       "      <td>NaN</td>\n",
       "    </tr>\n",
       "    <tr>\n",
       "      <th>1</th>\n",
       "      <td>Miriam Shoshana Donovan</td>\n",
       "      <td>MSD0939</td>\n",
       "      <td>Miriam.Shoshana.Donovan@dtaa.com</td>\n",
       "      <td>ComputerProgrammer</td>\n",
       "      <td>1</td>\n",
       "      <td>2 - ResearchAndEngineering</td>\n",
       "      <td>2 - SoftwareManagement</td>\n",
       "      <td>6 - Software</td>\n",
       "      <td>Caleb Mason Ball</td>\n",
       "      <td>2009-12-01</td>\n",
       "      <td>62841</td>\n",
       "      <td>$41k - $99k</td>\n",
       "      <td>NaN</td>\n",
       "    </tr>\n",
       "    <tr>\n",
       "      <th>2</th>\n",
       "      <td>William Theodore Reeves</td>\n",
       "      <td>WTR0563</td>\n",
       "      <td>William.Theodore.Reeves@dtaa.com</td>\n",
       "      <td>ComputerProgrammer</td>\n",
       "      <td>1</td>\n",
       "      <td>2 - ResearchAndEngineering</td>\n",
       "      <td>2 - SoftwareManagement</td>\n",
       "      <td>3 - Software</td>\n",
       "      <td>Stephanie Briar Harrington</td>\n",
       "      <td>2009-12-01</td>\n",
       "      <td>62841</td>\n",
       "      <td>$41k - $99k</td>\n",
       "      <td>NaN</td>\n",
       "    </tr>\n",
       "    <tr>\n",
       "      <th>3</th>\n",
       "      <td>Nicolas Kadeem Hayden</td>\n",
       "      <td>NKH0807</td>\n",
       "      <td>Nicolas.Kadeem.Hayden@dtaa.com</td>\n",
       "      <td>ComputerProgrammer</td>\n",
       "      <td>1</td>\n",
       "      <td>2 - ResearchAndEngineering</td>\n",
       "      <td>2 - SoftwareManagement</td>\n",
       "      <td>5 - Software</td>\n",
       "      <td>Sara Gail George</td>\n",
       "      <td>2009-12-01</td>\n",
       "      <td>62841</td>\n",
       "      <td>$41k - $99k</td>\n",
       "      <td>NaN</td>\n",
       "    </tr>\n",
       "    <tr>\n",
       "      <th>4</th>\n",
       "      <td>Dominic Howard Mcconnell</td>\n",
       "      <td>DHM0937</td>\n",
       "      <td>Dominic.Howard.Mcconnell@dtaa.com</td>\n",
       "      <td>ComputerProgrammer</td>\n",
       "      <td>1</td>\n",
       "      <td>2 - ResearchAndEngineering</td>\n",
       "      <td>2 - SoftwareManagement</td>\n",
       "      <td>6 - Software</td>\n",
       "      <td>Caleb Mason Ball</td>\n",
       "      <td>2009-12-01</td>\n",
       "      <td>62841</td>\n",
       "      <td>$41k - $99k</td>\n",
       "      <td>NaN</td>\n",
       "    </tr>\n",
       "  </tbody>\n",
       "</table>\n",
       "</div>"
      ],
      "text/plain": [
       "              employee_name  user_id  ...        Range Comments\n",
       "0          Calvin Edan Love  CEL0561  ...  $41k - $99k      NaN\n",
       "1   Miriam Shoshana Donovan  MSD0939  ...  $41k - $99k      NaN\n",
       "2   William Theodore Reeves  WTR0563  ...  $41k - $99k      NaN\n",
       "3     Nicolas Kadeem Hayden  NKH0807  ...  $41k - $99k      NaN\n",
       "4  Dominic Howard Mcconnell  DHM0937  ...  $41k - $99k      NaN\n",
       "\n",
       "[5 rows x 13 columns]"
      ]
     },
     "execution_count": 33,
     "metadata": {
      "tags": []
     },
     "output_type": "execute_result"
    }
   ],
   "source": [
    "#merging to see everything\n",
    "jobMerge = full.merge(sal, how = \"inner\", on = \"role\")\n",
    "jobMerge.head()"
   ]
  },
  {
   "cell_type": "code",
   "execution_count": 0,
   "metadata": {
    "colab": {},
    "colab_type": "code",
    "id": "UdOYICVjl5HD"
   },
   "outputs": [],
   "source": [
    "#jobMerge[jobMerge.columns[[0, 1, 2, 3, 4, 5, 6, 7, 8, 10, 11]]].drop_duplicates().to_csv(\"./drive/My Drive/DatosInsider/r4.2/LDAP/employee_data_salaries.csv\")\n",
    "jobMerge[jobMerge.columns[[0, 1, 2, 3, 4, 5, 6, 7, 8, 10, 11]]].drop_duplicates().to_csv(\"./drive/My Drive/DatosInsider/DWH_tables/employee_data_salaries.csv\")"
   ]
  },
  {
   "cell_type": "markdown",
   "metadata": {
    "colab_type": "text",
    "id": "xipw0DeEOUpp"
   },
   "source": [
    "# Email Sentiment"
   ]
  },
  {
   "cell_type": "code",
   "execution_count": 0,
   "metadata": {
    "colab": {},
    "colab_type": "code",
    "id": "28ROOITNL1-V"
   },
   "outputs": [],
   "source": [
    "import string\n",
    "from textblob import TextBlob\n",
    "from nltk.corpus import stopwords\n",
    "from nltk.tokenize import word_tokenize\n",
    "import re"
   ]
  },
  {
   "cell_type": "code",
   "execution_count": 0,
   "metadata": {
    "colab": {},
    "colab_type": "code",
    "id": "0Ciw2-s6OQV7"
   },
   "outputs": [],
   "source": [
    "def clean_text(txt):\n",
    "    tmpTxt = txt\n",
    "    stop_words = set(stopwords.words(\"english\"))\n",
    "    txt = re.sub(r'\"',\"\", txt)\n",
    "    txt = re.sub(r'[0-9]*',\"\",txt)\n",
    "    txt = re.sub(r\"'\",\" \",txt)\n",
    "    txt = txt.lower()\n",
    "    tokens = word_tokenize(txt)\n",
    "    txtFiltered = []\n",
    "    for w in tokens:\n",
    "        if w not in stop_words and w not in string.punctuation:\n",
    "        txtFiltered.append(w)\n",
    "    return ' '.join(txtFiltered)\n"
   ]
  },
  {
   "cell_type": "code",
   "execution_count": 0,
   "metadata": {
    "colab": {
     "base_uri": "https://localhost:8080/",
     "height": 54
    },
    "colab_type": "code",
    "id": "6wdH1v30OQTQ",
    "outputId": "b376daf8-b159-4c71-d788-414b9b8848c7"
   },
   "outputs": [
    {
     "data": {
      "text/plain": [
       "'middle f systems july techniques powerful destroyed larger speeds plains part paul hold like followed decrease actual training international addition geographically side able appear prairies still succession yet months mid america could especially descend thus officially southward slope pass finland needed gulf stick possibility hall montreal kick gulf'"
      ]
     },
     "execution_count": 66,
     "metadata": {
      "tags": []
     },
     "output_type": "execute_result"
    }
   ],
   "source": [
    "tx1 = clean_text(email_csv[\"content\"].iloc[0])\n",
    "tx1"
   ]
  },
  {
   "cell_type": "code",
   "execution_count": 0,
   "metadata": {
    "colab": {
     "base_uri": "https://localhost:8080/",
     "height": 50
    },
    "colab_type": "code",
    "id": "EzNjAtyROQQ2",
    "outputId": "edc68293-5d32-4865-f1cc-5b8ff88801ba"
   },
   "outputs": [
    {
     "name": "stdout",
     "output_type": "stream",
     "text": [
      "Polarity  0.1\n",
      "Subjectivity  0.403125\n"
     ]
    }
   ],
   "source": [
    "blob = TextBlob(tx1)\n",
    "print(\"Polarity \", blob.polarity)\n",
    "print(\"Subjectivity \", blob.subjectivity)"
   ]
  },
  {
   "cell_type": "code",
   "execution_count": 0,
   "metadata": {
    "colab": {},
    "colab_type": "code",
    "id": "rw0nLzVeOQOU"
   },
   "outputs": [],
   "source": [
    "def getPolarity(txt):\n",
    "    blob = TextBlob(txt)\n",
    "    return blob.polarity"
   ]
  },
  {
   "cell_type": "code",
   "execution_count": 0,
   "metadata": {
    "colab": {
     "base_uri": "https://localhost:8080/",
     "height": 50
    },
    "colab_type": "code",
    "id": "OnRMEBKLOQL3",
    "outputId": "cb9862ec-9742-48b5-a8ed-cb785fc12a61"
   },
   "outputs": [
    {
     "name": "stdout",
     "output_type": "stream",
     "text": [
      "CPU times: user 52min 3s, sys: 55.1 s, total: 52min 58s\n",
      "Wall time: 52min 59s\n"
     ]
    }
   ],
   "source": [
    "%%time\n",
    "polarityArr = email_csv[\"content\"].map(lambda x: getPolarity(clean_text(x)))"
   ]
  },
  {
   "cell_type": "code",
   "execution_count": 0,
   "metadata": {
    "colab": {
     "base_uri": "https://localhost:8080/",
     "height": 314
    },
    "colab_type": "code",
    "id": "UMaOB7zuOQJV",
    "outputId": "af5b3684-f6e4-45f5-d86d-3afd6a1a807a"
   },
   "outputs": [
    {
     "data": {
      "text/plain": [
       "array([[<matplotlib.axes._subplots.AxesSubplot object at 0x7fae87f2b940>]],\n",
       "      dtype=object)"
      ]
     },
     "execution_count": 70,
     "metadata": {
      "tags": []
     },
     "output_type": "execute_result"
    },
    {
     "data": {
      "image/png": "[encoded data removed]",
      "text/plain": [
       "<Figure size 432x288 with 1 Axes>"
      ]
     },
     "metadata": {
      "tags": []
     },
     "output_type": "display_data"
    }
   ],
   "source": [
    "pd.DataFrame(polarityArr).hist(bins = 50)"
   ]
  },
  {
   "cell_type": "code",
   "execution_count": 0,
   "metadata": {
    "colab": {
     "base_uri": "https://localhost:8080/",
     "height": 218
    },
    "colab_type": "code",
    "id": "MW_ye3xFOQG7",
    "outputId": "f46742e7-d4ae-40cb-eba2-43395f58de30"
   },
   "outputs": [
    {
     "data": {
      "text/plain": [
       "0          0.100000\n",
       "1          0.000000\n",
       "2         -0.191667\n",
       "3          0.050000\n",
       "4          0.200000\n",
       "             ...   \n",
       "2629974   -0.171429\n",
       "2629975    0.000000\n",
       "2629976    0.193750\n",
       "2629977    0.477500\n",
       "2629978    0.066667\n",
       "Name: content, Length: 2629979, dtype: float64"
      ]
     },
     "execution_count": 73,
     "metadata": {
      "tags": []
     },
     "output_type": "execute_result"
    }
   ],
   "source": [
    "polarityArr"
   ]
  },
  {
   "cell_type": "code",
   "execution_count": 0,
   "metadata": {
    "colab": {},
    "colab_type": "code",
    "id": "WpErGGYlOQEh"
   },
   "outputs": [],
   "source": [
    "pd.DataFrame(polarityArr).to_csv(\"./drive/My Drive/DatosInsider/DWH_tables/email_sentiment.csv\")"
   ]
  },
  {
   "cell_type": "code",
   "execution_count": 0,
   "metadata": {
    "colab": {
     "base_uri": "https://localhost:8080/",
     "height": 249
    },
    "colab_type": "code",
    "id": "oK3CcaxLOQCG",
    "outputId": "1616724b-17a3-4532-dd2a-fdcc53076ee3"
   },
   "outputs": [
    {
     "name": "stderr",
     "output_type": "stream",
     "text": [
      "/usr/local/lib/python3.6/dist-packages/numpy/lib/arraysetops.py:569: FutureWarning: elementwise comparison failed; returning scalar instead, but in the future will perform elementwise comparison\n",
      "  mask |= (ar1 == a)\n"
     ]
    },
    {
     "data": {
      "text/html": [
       "<div>\n",
       "<style scoped>\n",
       "    .dataframe tbody tr th:only-of-type {\n",
       "        vertical-align: middle;\n",
       "    }\n",
       "\n",
       "    .dataframe tbody tr th {\n",
       "        vertical-align: top;\n",
       "    }\n",
       "\n",
       "    .dataframe thead th {\n",
       "        text-align: right;\n",
       "    }\n",
       "</style>\n",
       "<table border=\"1\" class=\"dataframe\">\n",
       "  <thead>\n",
       "    <tr style=\"text-align: right;\">\n",
       "      <th></th>\n",
       "      <th>content</th>\n",
       "    </tr>\n",
       "  </thead>\n",
       "  <tbody>\n",
       "    <tr>\n",
       "      <th>0</th>\n",
       "      <td>0.100000</td>\n",
       "    </tr>\n",
       "    <tr>\n",
       "      <th>1</th>\n",
       "      <td>0.000000</td>\n",
       "    </tr>\n",
       "    <tr>\n",
       "      <th>2</th>\n",
       "      <td>-0.191667</td>\n",
       "    </tr>\n",
       "    <tr>\n",
       "      <th>3</th>\n",
       "      <td>0.050000</td>\n",
       "    </tr>\n",
       "    <tr>\n",
       "      <th>4</th>\n",
       "      <td>0.200000</td>\n",
       "    </tr>\n",
       "  </tbody>\n",
       "</table>\n",
       "</div>"
      ],
      "text/plain": [
       "    content\n",
       "0  0.100000\n",
       "1  0.000000\n",
       "2 -0.191667\n",
       "3  0.050000\n",
       "4  0.200000"
      ]
     },
     "execution_count": 4,
     "metadata": {
      "tags": []
     },
     "output_type": "execute_result"
    }
   ],
   "source": [
    "es = pd.read_csv(\"./drive/My Drive/DatosInsider/DWH_tables/email_sentiment.csv\", index_col = 0)\n",
    "es.head()"
   ]
  },
  {
   "cell_type": "code",
   "execution_count": 0,
   "metadata": {
    "colab": {},
    "colab_type": "code",
    "id": "pao3MGcv6HhR"
   },
   "outputs": [],
   "source": [
    "es.columns = [\"sentiment\"]"
   ]
  },
  {
   "cell_type": "code",
   "execution_count": 0,
   "metadata": {
    "colab": {},
    "colab_type": "code",
    "id": "ovjqJ_325nCl"
   },
   "outputs": [],
   "source": [
    "ef = email_csv.merge(es, left_index = True, right_index = True)"
   ]
  },
  {
   "cell_type": "code",
   "execution_count": 0,
   "metadata": {
    "colab": {
     "base_uri": "https://localhost:8080/",
     "height": 50
    },
    "colab_type": "code",
    "id": "asiZduqh528F",
    "outputId": "852bbd5b-4b8a-4e57-dac4-3e9d77e81a94"
   },
   "outputs": [
    {
     "name": "stdout",
     "output_type": "stream",
     "text": [
      "CPU times: user 4min 2s, sys: 69.5 ms, total: 4min 2s\n",
      "Wall time: 4min 3s\n"
     ]
    }
   ],
   "source": [
    "%%time\n",
    "ef[\"date\"] = pd.to_datetime(ef[\"date\"])"
   ]
  },
  {
   "cell_type": "code",
   "execution_count": 0,
   "metadata": {
    "colab": {
     "base_uri": "https://localhost:8080/",
     "height": 50
    },
    "colab_type": "code",
    "id": "E7S7Ayp26oiE",
    "outputId": "c0bd35a1-05e7-402b-92c5-132b2b8d00d9"
   },
   "outputs": [
    {
     "name": "stdout",
     "output_type": "stream",
     "text": [
      "CPU times: user 19.5 s, sys: 426 ms, total: 20 s\n",
      "Wall time: 20 s\n"
     ]
    }
   ],
   "source": [
    "%%time\n",
    "ef[\"month\"] = ef[\"date\"].map(lambda x: x.month)\n",
    "ef[\"year\"] = ef[\"date\"].map(lambda x: x.year)"
   ]
  },
  {
   "cell_type": "code",
   "execution_count": 0,
   "metadata": {
    "colab": {},
    "colab_type": "code",
    "id": "WSmcBdnV6okw"
   },
   "outputs": [],
   "source": [
    "ef.groupby([\"user\", \"year\", \"month\"]).agg({\"sentiment\":\"mean\"})\n",
    "ef.reset_index(inplace=True)\n",
    "ef.to_csv(\"./drive/My Drive/DatosInsider/DWH_tables/email_sentiment_raw.csv\")"
   ]
  },
  {
   "cell_type": "code",
   "execution_count": 0,
   "metadata": {
    "colab": {},
    "colab_type": "code",
    "id": "t_s7wBPE7D--"
   },
   "outputs": [],
   "source": []
  },
  {
   "cell_type": "markdown",
   "metadata": {
    "colab_type": "text",
    "id": "uuscC9NVWwnn"
   },
   "source": [
    "# Sentiment web"
   ]
  },
  {
   "cell_type": "code",
   "execution_count": 0,
   "metadata": {
    "colab": {},
    "colab_type": "code",
    "id": "rUAvhZXIOP_s"
   },
   "outputs": [],
   "source": [
    "http_file = pd.read_csv(\"./drive/My Drive/DatosInsider/r4.2/Copia de http.csv\")\n"
   ]
  },
  {
   "cell_type": "code",
   "execution_count": 0,
   "metadata": {
    "colab": {
     "base_uri": "https://localhost:8080/",
     "height": 50
    },
    "colab_type": "code",
    "id": "GwHGLd2JvsEC",
    "outputId": "0ecaf097-6a4a-4af7-889a-63ffbc786ba0"
   },
   "outputs": [
    {
     "name": "stdout",
     "output_type": "stream",
     "text": [
      "CPU times: user 8h 56min 2s, sys: 9min 9s, total: 9h 5min 12s\n",
      "Wall time: 9h 5min 24s\n"
     ]
    }
   ],
   "source": [
    "%%time\n",
    "http_polarity = http_file[\"content\"].map(lambda x: getPolarity(clean_text(x)))\n",
    "http_polarity_array = pd.DataFrame(http_polarity)"
   ]
  },
  {
   "cell_type": "code",
   "execution_count": 0,
   "metadata": {
    "colab": {},
    "colab_type": "code",
    "id": "wWnrLgckEXgL"
   },
   "outputs": [],
   "source": [
    "http_polarity_array.to_csv(\"./drive/My Drive/DatosInsider/DWH_tables/http_sentiment.csv\")"
   ]
  },
  {
   "cell_type": "code",
   "execution_count": 0,
   "metadata": {
    "colab": {
     "base_uri": "https://localhost:8080/",
     "height": 570
    },
    "colab_type": "code",
    "id": "MSHBcBYPdIKA",
    "outputId": "52daa2c8-47dc-4428-8664-3b24d40614b4"
   },
   "outputs": [
    {
     "data": {
      "text/html": [
       "<div>\n",
       "<style scoped>\n",
       "    .dataframe tbody tr th:only-of-type {\n",
       "        vertical-align: middle;\n",
       "    }\n",
       "\n",
       "    .dataframe tbody tr th {\n",
       "        vertical-align: top;\n",
       "    }\n",
       "\n",
       "    .dataframe thead th {\n",
       "        text-align: right;\n",
       "    }\n",
       "</style>\n",
       "<table border=\"1\" class=\"dataframe\">\n",
       "  <thead>\n",
       "    <tr style=\"text-align: right;\">\n",
       "      <th></th>\n",
       "      <th>id</th>\n",
       "      <th>date</th>\n",
       "      <th>user</th>\n",
       "      <th>pc</th>\n",
       "      <th>url</th>\n",
       "      <th>content</th>\n",
       "    </tr>\n",
       "  </thead>\n",
       "  <tbody>\n",
       "    <tr>\n",
       "      <th>100</th>\n",
       "      <td>{X1R8-U8XP62QI-4803VLDH}</td>\n",
       "      <td>01/02/2010 07:54:28</td>\n",
       "      <td>RRC0553</td>\n",
       "      <td>PC-6672</td>\n",
       "      <td>http://netteller.com/1984_Rajneeshee_bioterror...</td>\n",
       "      <td>met religious nor eventually set orders appoin...</td>\n",
       "    </tr>\n",
       "    <tr>\n",
       "      <th>101</th>\n",
       "      <td>{R6V9-N1KK77SD-8938BXSN}</td>\n",
       "      <td>01/02/2010 07:54:37</td>\n",
       "      <td>LRR0148</td>\n",
       "      <td>PC-4275</td>\n",
       "      <td>http://1saleaday.com/Mercury_dime/dimes/frphev...</td>\n",
       "      <td>weeks i hospital myers waverly fact potential ...</td>\n",
       "    </tr>\n",
       "    <tr>\n",
       "      <th>102</th>\n",
       "      <td>{R3R6-X1BL12EK-8022XZGT}</td>\n",
       "      <td>01/02/2010 07:54:43</td>\n",
       "      <td>ATE0869</td>\n",
       "      <td>PC-1313</td>\n",
       "      <td>http://googleusercontent.com/Conatus/buridan/p...</td>\n",
       "      <td>1938 proving drew valigursky put debut 2002 ch...</td>\n",
       "    </tr>\n",
       "    <tr>\n",
       "      <th>103</th>\n",
       "      <td>{T7J9-X4VA92RW-5863WVHG}</td>\n",
       "      <td>01/02/2010 07:54:54</td>\n",
       "      <td>RZC0746</td>\n",
       "      <td>PC-7500</td>\n",
       "      <td>http://t.co/Sydney_Newman/nfbs/ovplpyrgbhevate...</td>\n",
       "      <td>him script norway august television about unfa...</td>\n",
       "    </tr>\n",
       "    <tr>\n",
       "      <th>104</th>\n",
       "      <td>{N1E5-K4XF69DX-9603KCCS}</td>\n",
       "      <td>01/02/2010 07:54:57</td>\n",
       "      <td>RRC0553</td>\n",
       "      <td>PC-6672</td>\n",
       "      <td>http://officedepot.com/Cdwalla_of_Wessex/thelw...</td>\n",
       "      <td>sent swells 27 roads experiencing month also s...</td>\n",
       "    </tr>\n",
       "    <tr>\n",
       "      <th>...</th>\n",
       "      <td>...</td>\n",
       "      <td>...</td>\n",
       "      <td>...</td>\n",
       "      <td>...</td>\n",
       "      <td>...</td>\n",
       "      <td>...</td>\n",
       "    </tr>\n",
       "    <tr>\n",
       "      <th>195</th>\n",
       "      <td>{B9D4-N1DW17ZC-7273SOIE}</td>\n",
       "      <td>01/02/2010 08:12:02</td>\n",
       "      <td>NWK0215</td>\n",
       "      <td>PC-8370</td>\n",
       "      <td>http://nfl.com/Greece_runestones/dybeck/snzvyl...</td>\n",
       "      <td>remark squad 29th africans 29th lindwall parti...</td>\n",
       "    </tr>\n",
       "    <tr>\n",
       "      <th>196</th>\n",
       "      <td>{M3I4-L2QL45CA-8375JSFB}</td>\n",
       "      <td>01/02/2010 08:12:06</td>\n",
       "      <td>JKF0465</td>\n",
       "      <td>PC-6797</td>\n",
       "      <td>http://bleacherreport.com/Subarachnoid_hemorrh...</td>\n",
       "      <td>hope highway public xiii house home railway mi...</td>\n",
       "    </tr>\n",
       "    <tr>\n",
       "      <th>197</th>\n",
       "      <td>{R6Z4-O8YY14AO-9591QAQD}</td>\n",
       "      <td>01/02/2010 08:12:32</td>\n",
       "      <td>HPH0075</td>\n",
       "      <td>PC-2417</td>\n",
       "      <td>http://archive.org/Dutch_1913_battleship_propo...</td>\n",
       "      <td>film those past national 55 research riots com...</td>\n",
       "    </tr>\n",
       "    <tr>\n",
       "      <th>198</th>\n",
       "      <td>{L6H9-Z8OS85NN-5857PXOX}</td>\n",
       "      <td>01/02/2010 08:13:03</td>\n",
       "      <td>IRM0931</td>\n",
       "      <td>PC-7188</td>\n",
       "      <td>http://inbox.com/Cheadle_Hulme/hulme/yrnqrefuv...</td>\n",
       "      <td>gap province civil philip only governments wes...</td>\n",
       "    </tr>\n",
       "    <tr>\n",
       "      <th>199</th>\n",
       "      <td>{V0S7-W1TR57SA-3967UGIN}</td>\n",
       "      <td>01/02/2010 08:13:04</td>\n",
       "      <td>ESJ0670</td>\n",
       "      <td>PC-2321</td>\n",
       "      <td>http://cbssports.com/Donnchadh_Earl_of_Carrick...</td>\n",
       "      <td>saved saw rail 1889 temple which 1861 livestoc...</td>\n",
       "    </tr>\n",
       "  </tbody>\n",
       "</table>\n",
       "<p>100 rows × 6 columns</p>\n",
       "</div>"
      ],
      "text/plain": [
       "                           id  ...                                            content\n",
       "100  {X1R8-U8XP62QI-4803VLDH}  ...  met religious nor eventually set orders appoin...\n",
       "101  {R6V9-N1KK77SD-8938BXSN}  ...  weeks i hospital myers waverly fact potential ...\n",
       "102  {R3R6-X1BL12EK-8022XZGT}  ...  1938 proving drew valigursky put debut 2002 ch...\n",
       "103  {T7J9-X4VA92RW-5863WVHG}  ...  him script norway august television about unfa...\n",
       "104  {N1E5-K4XF69DX-9603KCCS}  ...  sent swells 27 roads experiencing month also s...\n",
       "..                        ...  ...                                                ...\n",
       "195  {B9D4-N1DW17ZC-7273SOIE}  ...  remark squad 29th africans 29th lindwall parti...\n",
       "196  {M3I4-L2QL45CA-8375JSFB}  ...  hope highway public xiii house home railway mi...\n",
       "197  {R6Z4-O8YY14AO-9591QAQD}  ...  film those past national 55 research riots com...\n",
       "198  {L6H9-Z8OS85NN-5857PXOX}  ...  gap province civil philip only governments wes...\n",
       "199  {V0S7-W1TR57SA-3967UGIN}  ...  saved saw rail 1889 temple which 1861 livestoc...\n",
       "\n",
       "[100 rows x 6 columns]"
      ]
     },
     "execution_count": 9,
     "metadata": {
      "tags": []
     },
     "output_type": "execute_result"
    }
   ],
   "source": [
    "%%time\n",
    "http_polarity_array = pd.read_csv(\"./drive/My Drive/DatosInsider/DWH_tables/http_sentiment.csv\")"
   ]
  },
  {
   "cell_type": "code",
   "execution_count": 0,
   "metadata": {
    "colab": {
     "base_uri": "https://localhost:8080/",
     "height": 50
    },
    "colab_type": "code",
    "id": "wi3czgkOzSCK",
    "outputId": "a99ca15f-b24d-43ed-8a52-faaff9d4c278"
   },
   "outputs": [
    {
     "name": "stdout",
     "output_type": "stream",
     "text": [
      "CPU times: user 7min 19s, sys: 11.2 s, total: 7min 30s\n",
      "Wall time: 8min 18s\n"
     ]
    }
   ],
   "source": [
    "%%time\n",
    "pd.concat([http_file, http_polarity_array], axis = 1).to_csv(\"./drive/My Drive/DatosInsider/DWH_tables/http_sentiment_raw.csv\")"
   ]
  },
  {
   "cell_type": "code",
   "execution_count": 0,
   "metadata": {
    "colab": {
     "base_uri": "https://localhost:8080/",
     "height": 50
    },
    "colab_type": "code",
    "id": "3ZG_Q6VTvFJl",
    "outputId": "53fe5afb-e2f2-4360-bef2-925658d19be0"
   },
   "outputs": [
    {
     "name": "stdout",
     "output_type": "stream",
     "text": [
      "CPU times: user 3min 14s, sys: 17.2 s, total: 3min 31s\n",
      "Wall time: 4min 24s\n"
     ]
    }
   ],
   "source": [
    "%%time\n",
    "hf = pd.read_csv(\"./drive/My Drive/DatosInsider/DWH_tables/http_sentiment_raw.csv\")"
   ]
  },
  {
   "cell_type": "code",
   "execution_count": 0,
   "metadata": {
    "colab": {
     "base_uri": "https://localhost:8080/",
     "height": 50
    },
    "colab_type": "code",
    "id": "yfkBh1G7vFEt",
    "outputId": "1b94e427-3166-44d4-a848-cc1f8c890614"
   },
   "outputs": [
    {
     "name": "stdout",
     "output_type": "stream",
     "text": [
      "CPU times: user 42min 6s, sys: 334 ms, total: 42min 6s\n",
      "Wall time: 42min 7s\n"
     ]
    }
   ],
   "source": [
    "%%time\n",
    "hf[\"date\"] = pd.to_datetime(hf[\"date\"])"
   ]
  },
  {
   "cell_type": "code",
   "execution_count": 0,
   "metadata": {
    "colab": {
     "base_uri": "https://localhost:8080/",
     "height": 50
    },
    "colab_type": "code",
    "id": "Z16p2UkEUHKi",
    "outputId": "4691d49d-4704-4ac3-b61b-7bbf5f91b84e"
   },
   "outputs": [
    {
     "name": "stdout",
     "output_type": "stream",
     "text": [
      "CPU times: user 3min 19s, sys: 7.47 s, total: 3min 27s\n",
      "Wall time: 3min 27s\n"
     ]
    }
   ],
   "source": [
    "%%time\n",
    "hf[\"month\"] = hf[\"date\"].map(lambda x: x.month)\n",
    "hf[\"year\"] = hf[\"date\"].map(lambda x: x.year)"
   ]
  },
  {
   "cell_type": "code",
   "execution_count": 0,
   "metadata": {
    "colab": {},
    "colab_type": "code",
    "id": "_QaZXEvmT69w"
   },
   "outputs": [],
   "source": [
    "hf_grouped = hf.groupby([\"user\", \"year\", \"month\"]).agg({\"content.1\":\"mean\"})"
   ]
  },
  {
   "cell_type": "code",
   "execution_count": 0,
   "metadata": {
    "colab": {
     "base_uri": "https://localhost:8080/",
     "height": 195
    },
    "colab_type": "code",
    "id": "-oBAXsZ1T7Ah",
    "outputId": "1dee24d7-b271-4640-a415-2cccc6856ad5"
   },
   "outputs": [
    {
     "data": {
      "text/html": [
       "<div>\n",
       "<style scoped>\n",
       "    .dataframe tbody tr th:only-of-type {\n",
       "        vertical-align: middle;\n",
       "    }\n",
       "\n",
       "    .dataframe tbody tr th {\n",
       "        vertical-align: top;\n",
       "    }\n",
       "\n",
       "    .dataframe thead th {\n",
       "        text-align: right;\n",
       "    }\n",
       "</style>\n",
       "<table border=\"1\" class=\"dataframe\">\n",
       "  <thead>\n",
       "    <tr style=\"text-align: right;\">\n",
       "      <th></th>\n",
       "      <th>user</th>\n",
       "      <th>year</th>\n",
       "      <th>month</th>\n",
       "      <th>content.1</th>\n",
       "    </tr>\n",
       "  </thead>\n",
       "  <tbody>\n",
       "    <tr>\n",
       "      <th>0</th>\n",
       "      <td>AAE0190</td>\n",
       "      <td>2010</td>\n",
       "      <td>1</td>\n",
       "      <td>0.054503</td>\n",
       "    </tr>\n",
       "    <tr>\n",
       "      <th>1</th>\n",
       "      <td>AAE0190</td>\n",
       "      <td>2010</td>\n",
       "      <td>2</td>\n",
       "      <td>0.055909</td>\n",
       "    </tr>\n",
       "    <tr>\n",
       "      <th>2</th>\n",
       "      <td>AAE0190</td>\n",
       "      <td>2010</td>\n",
       "      <td>3</td>\n",
       "      <td>0.052415</td>\n",
       "    </tr>\n",
       "    <tr>\n",
       "      <th>3</th>\n",
       "      <td>AAE0190</td>\n",
       "      <td>2010</td>\n",
       "      <td>4</td>\n",
       "      <td>0.053341</td>\n",
       "    </tr>\n",
       "    <tr>\n",
       "      <th>4</th>\n",
       "      <td>AAE0190</td>\n",
       "      <td>2010</td>\n",
       "      <td>5</td>\n",
       "      <td>0.051153</td>\n",
       "    </tr>\n",
       "  </tbody>\n",
       "</table>\n",
       "</div>"
      ],
      "text/plain": [
       "      user  year  month  content.1\n",
       "0  AAE0190  2010      1   0.054503\n",
       "1  AAE0190  2010      2   0.055909\n",
       "2  AAE0190  2010      3   0.052415\n",
       "3  AAE0190  2010      4   0.053341\n",
       "4  AAE0190  2010      5   0.051153"
      ]
     },
     "execution_count": 20,
     "metadata": {
      "tags": []
     },
     "output_type": "execute_result"
    }
   ],
   "source": [
    "hf_grouped.reset_index(inplace=True)\n",
    "hf_grouped.head()"
   ]
  },
  {
   "cell_type": "code",
   "execution_count": 0,
   "metadata": {
    "colab": {},
    "colab_type": "code",
    "id": "Z3TxFCArT7Dq"
   },
   "outputs": [],
   "source": [
    "hf_grouped.to_csv(\"./drive/My Drive/DatosInsider/DWH_tables/http_sentiment_grouped_raw.csv\")"
   ]
  },
  {
   "cell_type": "markdown",
   "metadata": {
    "colab_type": "text",
    "id": "9kLnMQiWvFs-"
   },
   "source": [
    "# Device\n"
   ]
  },
  {
   "cell_type": "code",
   "execution_count": 0,
   "metadata": {
    "colab": {
     "base_uri": "https://localhost:8080/",
     "height": 50
    },
    "colab_type": "code",
    "id": "06IdlnA8vJSm",
    "outputId": "67e6fc21-d32c-4f6b-97ad-216f2f977ab8"
   },
   "outputs": [
    {
     "name": "stdout",
     "output_type": "stream",
     "text": [
      "CPU times: user 36.6 s, sys: 55.7 ms, total: 36.6 s\n",
      "Wall time: 36.7 s\n"
     ]
    }
   ],
   "source": [
    "%%time\n",
    "device_file = pd.read_csv(\"./drive/My Drive/DatosInsider/r4.2/device.csv\", parse_dates=['date'])"
   ]
  },
  {
   "cell_type": "code",
   "execution_count": 0,
   "metadata": {
    "colab": {
     "base_uri": "https://localhost:8080/",
     "height": 195
    },
    "colab_type": "code",
    "id": "oVeZwr_qvJP_",
    "outputId": "b88ce88d-a4fc-4b66-ad98-5df086c0ebc6"
   },
   "outputs": [
    {
     "data": {
      "text/html": [
       "<div>\n",
       "<style scoped>\n",
       "    .dataframe tbody tr th:only-of-type {\n",
       "        vertical-align: middle;\n",
       "    }\n",
       "\n",
       "    .dataframe tbody tr th {\n",
       "        vertical-align: top;\n",
       "    }\n",
       "\n",
       "    .dataframe thead th {\n",
       "        text-align: right;\n",
       "    }\n",
       "</style>\n",
       "<table border=\"1\" class=\"dataframe\">\n",
       "  <thead>\n",
       "    <tr style=\"text-align: right;\">\n",
       "      <th></th>\n",
       "      <th>id</th>\n",
       "      <th>date</th>\n",
       "      <th>user</th>\n",
       "      <th>pc</th>\n",
       "      <th>activity</th>\n",
       "    </tr>\n",
       "  </thead>\n",
       "  <tbody>\n",
       "    <tr>\n",
       "      <th>0</th>\n",
       "      <td>{J1S3-L9UU75BQ-7790ATPL}</td>\n",
       "      <td>2010-01-02 07:21:06</td>\n",
       "      <td>MOH0273</td>\n",
       "      <td>PC-6699</td>\n",
       "      <td>Connect</td>\n",
       "    </tr>\n",
       "    <tr>\n",
       "      <th>1</th>\n",
       "      <td>{N7B5-Y7BB27SI-2946PUJK}</td>\n",
       "      <td>2010-01-02 07:37:41</td>\n",
       "      <td>MOH0273</td>\n",
       "      <td>PC-6699</td>\n",
       "      <td>Disconnect</td>\n",
       "    </tr>\n",
       "    <tr>\n",
       "      <th>2</th>\n",
       "      <td>{U1V9-Z7XT67KV-5649MYHI}</td>\n",
       "      <td>2010-01-02 07:59:11</td>\n",
       "      <td>HPH0075</td>\n",
       "      <td>PC-2417</td>\n",
       "      <td>Connect</td>\n",
       "    </tr>\n",
       "    <tr>\n",
       "      <th>3</th>\n",
       "      <td>{H0Z7-E6GB57XZ-1603MOXD}</td>\n",
       "      <td>2010-01-02 07:59:49</td>\n",
       "      <td>IIW0249</td>\n",
       "      <td>PC-0843</td>\n",
       "      <td>Connect</td>\n",
       "    </tr>\n",
       "    <tr>\n",
       "      <th>4</th>\n",
       "      <td>{L7P2-G4PX02RX-7999GYOY}</td>\n",
       "      <td>2010-01-02 08:04:26</td>\n",
       "      <td>IIW0249</td>\n",
       "      <td>PC-0843</td>\n",
       "      <td>Disconnect</td>\n",
       "    </tr>\n",
       "  </tbody>\n",
       "</table>\n",
       "</div>"
      ],
      "text/plain": [
       "                         id                date     user       pc    activity\n",
       "0  {J1S3-L9UU75BQ-7790ATPL} 2010-01-02 07:21:06  MOH0273  PC-6699     Connect\n",
       "1  {N7B5-Y7BB27SI-2946PUJK} 2010-01-02 07:37:41  MOH0273  PC-6699  Disconnect\n",
       "2  {U1V9-Z7XT67KV-5649MYHI} 2010-01-02 07:59:11  HPH0075  PC-2417     Connect\n",
       "3  {H0Z7-E6GB57XZ-1603MOXD} 2010-01-02 07:59:49  IIW0249  PC-0843     Connect\n",
       "4  {L7P2-G4PX02RX-7999GYOY} 2010-01-02 08:04:26  IIW0249  PC-0843  Disconnect"
      ]
     },
     "execution_count": 13,
     "metadata": {
      "tags": []
     },
     "output_type": "execute_result"
    }
   ],
   "source": [
    "device_file.head()"
   ]
  },
  {
   "cell_type": "code",
   "execution_count": 0,
   "metadata": {
    "colab": {
     "base_uri": "https://localhost:8080/",
     "height": 50
    },
    "colab_type": "code",
    "id": "wWQKUYZmvJOT",
    "outputId": "270bf252-bcd1-44e5-fe0c-202b6674bfbf"
   },
   "outputs": [
    {
     "name": "stdout",
     "output_type": "stream",
     "text": [
      "CPU times: user 3.12 s, sys: 59 ms, total: 3.18 s\n",
      "Wall time: 3.18 s\n"
     ]
    }
   ],
   "source": [
    "%%time\n",
    "device_file[\"month\"] = device_file[\"date\"].map(lambda x: x.month)\n",
    "device_file[\"year\"] = device_file[\"date\"].map(lambda x: x.year)"
   ]
  },
  {
   "cell_type": "code",
   "execution_count": 0,
   "metadata": {
    "colab": {},
    "colab_type": "code",
    "id": "dje8Xrd4vJLL"
   },
   "outputs": [],
   "source": [
    "device_grouped = device_file[device_file[\"activity\"] == \"Connect\"].groupby([\"user\", \"year\", \"month\"]).agg({\"activity\":\"count\"})"
   ]
  },
  {
   "cell_type": "code",
   "execution_count": 0,
   "metadata": {
    "colab": {
     "base_uri": "https://localhost:8080/",
     "height": 195
    },
    "colab_type": "code",
    "id": "73bKy_TVb_dW",
    "outputId": "503cba46-84ab-4caf-ed59-79ef2c241c3a"
   },
   "outputs": [
    {
     "data": {
      "text/html": [
       "<div>\n",
       "<style scoped>\n",
       "    .dataframe tbody tr th:only-of-type {\n",
       "        vertical-align: middle;\n",
       "    }\n",
       "\n",
       "    .dataframe tbody tr th {\n",
       "        vertical-align: top;\n",
       "    }\n",
       "\n",
       "    .dataframe thead th {\n",
       "        text-align: right;\n",
       "    }\n",
       "</style>\n",
       "<table border=\"1\" class=\"dataframe\">\n",
       "  <thead>\n",
       "    <tr style=\"text-align: right;\">\n",
       "      <th></th>\n",
       "      <th>user</th>\n",
       "      <th>year</th>\n",
       "      <th>month</th>\n",
       "      <th>activity</th>\n",
       "    </tr>\n",
       "  </thead>\n",
       "  <tbody>\n",
       "    <tr>\n",
       "      <th>0</th>\n",
       "      <td>AAF0535</td>\n",
       "      <td>2010</td>\n",
       "      <td>1</td>\n",
       "      <td>39</td>\n",
       "    </tr>\n",
       "    <tr>\n",
       "      <th>1</th>\n",
       "      <td>AAF0535</td>\n",
       "      <td>2010</td>\n",
       "      <td>2</td>\n",
       "      <td>34</td>\n",
       "    </tr>\n",
       "    <tr>\n",
       "      <th>2</th>\n",
       "      <td>AAF0535</td>\n",
       "      <td>2010</td>\n",
       "      <td>3</td>\n",
       "      <td>40</td>\n",
       "    </tr>\n",
       "    <tr>\n",
       "      <th>3</th>\n",
       "      <td>AAF0535</td>\n",
       "      <td>2010</td>\n",
       "      <td>4</td>\n",
       "      <td>45</td>\n",
       "    </tr>\n",
       "    <tr>\n",
       "      <th>4</th>\n",
       "      <td>AAF0535</td>\n",
       "      <td>2010</td>\n",
       "      <td>5</td>\n",
       "      <td>43</td>\n",
       "    </tr>\n",
       "  </tbody>\n",
       "</table>\n",
       "</div>"
      ],
      "text/plain": [
       "      user  year  month  activity\n",
       "0  AAF0535  2010      1        39\n",
       "1  AAF0535  2010      2        34\n",
       "2  AAF0535  2010      3        40\n",
       "3  AAF0535  2010      4        45\n",
       "4  AAF0535  2010      5        43"
      ]
     },
     "execution_count": 58,
     "metadata": {
      "tags": []
     },
     "output_type": "execute_result"
    }
   ],
   "source": [
    "device_grouped.reset_index(inplace=True)\n",
    "device_grouped.head()"
   ]
  },
  {
   "cell_type": "code",
   "execution_count": 0,
   "metadata": {
    "colab": {},
    "colab_type": "code",
    "id": "BfkT_3Ujb9a5"
   },
   "outputs": [],
   "source": [
    "device_grouped.to_csv(\"./drive/My Drive/DatosInsider/DWH_tables/device_count.csv\")"
   ]
  },
  {
   "cell_type": "markdown",
   "metadata": {
    "colab_type": "text",
    "id": "693_-XFqZjdF"
   },
   "source": [
    "# File"
   ]
  },
  {
   "cell_type": "code",
   "execution_count": 0,
   "metadata": {
    "colab": {},
    "colab_type": "code",
    "id": "waF_va_pZmE6"
   },
   "outputs": [],
   "source": [
    "%%time\n",
    "file_file = pd.read_csv(\"./drive/My Drive/DatosInsider/r4.2/file.csv\", parse_dates=['date'])"
   ]
  },
  {
   "cell_type": "code",
   "execution_count": 0,
   "metadata": {
    "colab": {
     "base_uri": "https://localhost:8080/",
     "height": 195
    },
    "colab_type": "code",
    "id": "kZ3NpaJNZmHg",
    "outputId": "57b6016a-b8b1-4b8f-dd4e-a39e9eb85fd3"
   },
   "outputs": [
    {
     "data": {
      "text/html": [
       "<div>\n",
       "<style scoped>\n",
       "    .dataframe tbody tr th:only-of-type {\n",
       "        vertical-align: middle;\n",
       "    }\n",
       "\n",
       "    .dataframe tbody tr th {\n",
       "        vertical-align: top;\n",
       "    }\n",
       "\n",
       "    .dataframe thead th {\n",
       "        text-align: right;\n",
       "    }\n",
       "</style>\n",
       "<table border=\"1\" class=\"dataframe\">\n",
       "  <thead>\n",
       "    <tr style=\"text-align: right;\">\n",
       "      <th></th>\n",
       "      <th>id</th>\n",
       "      <th>date</th>\n",
       "      <th>user</th>\n",
       "      <th>pc</th>\n",
       "      <th>filename</th>\n",
       "      <th>content</th>\n",
       "    </tr>\n",
       "  </thead>\n",
       "  <tbody>\n",
       "    <tr>\n",
       "      <th>0</th>\n",
       "      <td>{L9G8-J9QE34VM-2834VDPB}</td>\n",
       "      <td>2010-01-02 07:23:14</td>\n",
       "      <td>MOH0273</td>\n",
       "      <td>PC-6699</td>\n",
       "      <td>EYPC9Y08.doc</td>\n",
       "      <td>D0-CF-11-E0-A1-B1-1A-E1 during difficulty over...</td>\n",
       "    </tr>\n",
       "    <tr>\n",
       "      <th>1</th>\n",
       "      <td>{H0W6-L4FG38XG-9897XTEN}</td>\n",
       "      <td>2010-01-02 07:26:19</td>\n",
       "      <td>MOH0273</td>\n",
       "      <td>PC-6699</td>\n",
       "      <td>N3LTSU3O.pdf</td>\n",
       "      <td>25-50-44-46-2D carpenters 25 landed strait dis...</td>\n",
       "    </tr>\n",
       "    <tr>\n",
       "      <th>2</th>\n",
       "      <td>{M3Z0-O2KK89OX-5716MBIM}</td>\n",
       "      <td>2010-01-02 08:12:03</td>\n",
       "      <td>HPH0075</td>\n",
       "      <td>PC-2417</td>\n",
       "      <td>D3D3WC9W.doc</td>\n",
       "      <td>D0-CF-11-E0-A1-B1-1A-E1 union 24 declined impo...</td>\n",
       "    </tr>\n",
       "    <tr>\n",
       "      <th>3</th>\n",
       "      <td>{E1I4-S4QS61TG-3652YHKR}</td>\n",
       "      <td>2010-01-02 08:17:00</td>\n",
       "      <td>HPH0075</td>\n",
       "      <td>PC-2417</td>\n",
       "      <td>QCSW62YS.doc</td>\n",
       "      <td>D0-CF-11-E0-A1-B1-1A-E1 becoming period begin ...</td>\n",
       "    </tr>\n",
       "    <tr>\n",
       "      <th>4</th>\n",
       "      <td>{D4R7-E7JL45UX-0067XALT}</td>\n",
       "      <td>2010-01-02 08:24:57</td>\n",
       "      <td>HSB0196</td>\n",
       "      <td>PC-8001</td>\n",
       "      <td>AU75JV6U.jpg</td>\n",
       "      <td>FF-D8</td>\n",
       "    </tr>\n",
       "  </tbody>\n",
       "</table>\n",
       "</div>"
      ],
      "text/plain": [
       "                         id  ...                                            content\n",
       "0  {L9G8-J9QE34VM-2834VDPB}  ...  D0-CF-11-E0-A1-B1-1A-E1 during difficulty over...\n",
       "1  {H0W6-L4FG38XG-9897XTEN}  ...  25-50-44-46-2D carpenters 25 landed strait dis...\n",
       "2  {M3Z0-O2KK89OX-5716MBIM}  ...  D0-CF-11-E0-A1-B1-1A-E1 union 24 declined impo...\n",
       "3  {E1I4-S4QS61TG-3652YHKR}  ...  D0-CF-11-E0-A1-B1-1A-E1 becoming period begin ...\n",
       "4  {D4R7-E7JL45UX-0067XALT}  ...                                              FF-D8\n",
       "\n",
       "[5 rows x 6 columns]"
      ]
     },
     "execution_count": 31,
     "metadata": {
      "tags": []
     },
     "output_type": "execute_result"
    }
   ],
   "source": [
    "file_file.head()"
   ]
  },
  {
   "cell_type": "code",
   "execution_count": 0,
   "metadata": {
    "colab": {
     "base_uri": "https://localhost:8080/",
     "height": 50
    },
    "colab_type": "code",
    "id": "c2Sh3MlLbLug",
    "outputId": "41cdc174-f1bf-4133-fe8a-6979a4db6a24"
   },
   "outputs": [
    {
     "name": "stdout",
     "output_type": "stream",
     "text": [
      "CPU times: user 3.48 s, sys: 81.9 ms, total: 3.56 s\n",
      "Wall time: 3.56 s\n"
     ]
    }
   ],
   "source": [
    "%%time\n",
    "file_file[\"month\"] = file_file[\"date\"].map(lambda x: x.month)\n",
    "file_file[\"year\"] = file_file[\"date\"].map(lambda x: x.year)"
   ]
  },
  {
   "cell_type": "code",
   "execution_count": 0,
   "metadata": {
    "colab": {},
    "colab_type": "code",
    "id": "p9O_clM8ZmKn"
   },
   "outputs": [],
   "source": [
    "file_file[\"isExe\"] = file_file[\"filename\"].map(lambda x: True if x.split(\".\")[-1] == \"exe\" else False)"
   ]
  },
  {
   "cell_type": "code",
   "execution_count": 0,
   "metadata": {
    "colab": {
     "base_uri": "https://localhost:8080/",
     "height": 195
    },
    "colab_type": "code",
    "id": "ZgZsh6WkZmOJ",
    "outputId": "5075d98d-b013-42a0-90e6-6fee378f029a"
   },
   "outputs": [
    {
     "data": {
      "text/html": [
       "<div>\n",
       "<style scoped>\n",
       "    .dataframe tbody tr th:only-of-type {\n",
       "        vertical-align: middle;\n",
       "    }\n",
       "\n",
       "    .dataframe tbody tr th {\n",
       "        vertical-align: top;\n",
       "    }\n",
       "\n",
       "    .dataframe thead th {\n",
       "        text-align: right;\n",
       "    }\n",
       "</style>\n",
       "<table border=\"1\" class=\"dataframe\">\n",
       "  <thead>\n",
       "    <tr style=\"text-align: right;\">\n",
       "      <th></th>\n",
       "      <th>user</th>\n",
       "      <th>year</th>\n",
       "      <th>month</th>\n",
       "      <th>filename</th>\n",
       "      <th>isExe</th>\n",
       "    </tr>\n",
       "  </thead>\n",
       "  <tbody>\n",
       "    <tr>\n",
       "      <th>0</th>\n",
       "      <td>AAF0535</td>\n",
       "      <td>2010</td>\n",
       "      <td>1</td>\n",
       "      <td>28</td>\n",
       "      <td>0.0</td>\n",
       "    </tr>\n",
       "    <tr>\n",
       "      <th>1</th>\n",
       "      <td>AAF0535</td>\n",
       "      <td>2010</td>\n",
       "      <td>2</td>\n",
       "      <td>43</td>\n",
       "      <td>1.0</td>\n",
       "    </tr>\n",
       "    <tr>\n",
       "      <th>2</th>\n",
       "      <td>AAF0535</td>\n",
       "      <td>2010</td>\n",
       "      <td>3</td>\n",
       "      <td>47</td>\n",
       "      <td>0.0</td>\n",
       "    </tr>\n",
       "    <tr>\n",
       "      <th>3</th>\n",
       "      <td>AAF0535</td>\n",
       "      <td>2010</td>\n",
       "      <td>4</td>\n",
       "      <td>48</td>\n",
       "      <td>0.0</td>\n",
       "    </tr>\n",
       "    <tr>\n",
       "      <th>4</th>\n",
       "      <td>AAF0535</td>\n",
       "      <td>2010</td>\n",
       "      <td>5</td>\n",
       "      <td>34</td>\n",
       "      <td>0.0</td>\n",
       "    </tr>\n",
       "  </tbody>\n",
       "</table>\n",
       "</div>"
      ],
      "text/plain": [
       "      user  year  month  filename  isExe\n",
       "0  AAF0535  2010      1        28    0.0\n",
       "1  AAF0535  2010      2        43    1.0\n",
       "2  AAF0535  2010      3        47    0.0\n",
       "3  AAF0535  2010      4        48    0.0\n",
       "4  AAF0535  2010      5        34    0.0"
      ]
     },
     "execution_count": 60,
     "metadata": {
      "tags": []
     },
     "output_type": "execute_result"
    }
   ],
   "source": [
    "grouped_file_file = file_file.groupby([\"user\", \"year\", \"month\"]).agg({\"filename\":\"count\", \"isExe\":\"sum\"})\n",
    "grouped_file_file.reset_index(inplace = True)\n",
    "grouped_file_file.head()"
   ]
  },
  {
   "cell_type": "code",
   "execution_count": 0,
   "metadata": {
    "colab": {},
    "colab_type": "code",
    "id": "9cvVICSKbhYd"
   },
   "outputs": [],
   "source": [
    "\n",
    "grouped_file_file.to_csv(\"./drive/My Drive/DatosInsider/DWH_tables/file_count.csv\")\n"
   ]
  },
  {
   "cell_type": "code",
   "execution_count": 0,
   "metadata": {
    "colab": {},
    "colab_type": "code",
    "id": "BgHTN-TMn0Cx"
   },
   "outputs": [],
   "source": []
  }
 ],
 "metadata": {
  "colab": {
   "collapsed_sections": [],
   "machine_shape": "hm",
   "name": "InsiderTrading_20200316_extraction",
   "provenance": [],
   "toc_visible": true
  },
  "kernelspec": {
   "display_name": "Python 3",
   "language": "python",
   "name": "python3"
  },
  "language_info": {
   "codemirror_mode": {
    "name": "ipython",
    "version": 3
   },
   "file_extension": ".py",
   "mimetype": "text/x-python",
   "name": "python",
   "nbconvert_exporter": "python",
   "pygments_lexer": "ipython3",
   "version": "3.5.6"
  }
 },
 "nbformat": 4,
 "nbformat_minor": 1
}
