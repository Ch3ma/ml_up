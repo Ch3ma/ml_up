{
 "cells": [
  {
   "cell_type": "code",
   "execution_count": 0,
   "metadata": {
    "colab": {},
    "colab_type": "code",
    "id": "2eg8eMAbccdE"
   },
   "outputs": [],
   "source": [
    "import pandas as pd\n",
    "import numpy as np\n",
    "import datetime"
   ]
  },
  {
   "cell_type": "code",
   "execution_count": 0,
   "metadata": {
    "colab": {},
    "colab_type": "code",
    "id": "rF6vBnqSccdO"
   },
   "outputs": [],
   "source": [
    "#folder where the data lives\n",
    "pth = \"D:/GDrive/DatosInsider/DWH_tables/\""
   ]
  },
  {
   "cell_type": "code",
   "execution_count": 0,
   "metadata": {
    "colab": {},
    "colab_type": "code",
    "id": "coVPAfveccdT"
   },
   "outputs": [],
   "source": [
    "#reading file where we left off\n",
    "full = pd.read_csv(pth + \"final_insider_risk_2.csv\")"
   ]
  },
  {
   "cell_type": "code",
   "execution_count": 0,
   "metadata": {
    "colab": {},
    "colab_type": "code",
    "id": "kUzO9YnqccdX"
   },
   "outputs": [],
   "source": [
    "#dropping reseted index, year and month\n",
    "full.drop(full.columns[[0, 2, 3]], axis = 1, inplace = True)"
   ]
  },
  {
   "cell_type": "code",
   "execution_count": 0,
   "metadata": {
    "colab": {},
    "colab_type": "code",
    "id": "CLOlyGMUccdd",
    "outputId": "20bc48dc-f8a7-4951-bf30-6b626fa40005"
   },
   "outputs": [
    {
     "data": {
      "text/html": [
       "<div>\n",
       "<style scoped>\n",
       "    .dataframe tbody tr th:only-of-type {\n",
       "        vertical-align: middle;\n",
       "    }\n",
       "\n",
       "    .dataframe tbody tr th {\n",
       "        vertical-align: top;\n",
       "    }\n",
       "\n",
       "    .dataframe thead th {\n",
       "        text-align: right;\n",
       "    }\n",
       "</style>\n",
       "<table border=\"1\" class=\"dataframe\">\n",
       "  <thead>\n",
       "    <tr style=\"text-align: right;\">\n",
       "      <th></th>\n",
       "      <th>user</th>\n",
       "      <th>device_count</th>\n",
       "      <th>file_count</th>\n",
       "      <th>executable_count</th>\n",
       "      <th>sentiment_email</th>\n",
       "      <th>http_sentiment</th>\n",
       "      <th>period</th>\n",
       "    </tr>\n",
       "  </thead>\n",
       "  <tbody>\n",
       "    <tr>\n",
       "      <th>0</th>\n",
       "      <td>AAF0535</td>\n",
       "      <td>39.0</td>\n",
       "      <td>28.0</td>\n",
       "      <td>0.0</td>\n",
       "      <td>0.072534</td>\n",
       "      <td>0.073321</td>\n",
       "      <td>201001</td>\n",
       "    </tr>\n",
       "    <tr>\n",
       "      <th>1</th>\n",
       "      <td>AAF0535</td>\n",
       "      <td>34.0</td>\n",
       "      <td>43.0</td>\n",
       "      <td>1.0</td>\n",
       "      <td>0.054049</td>\n",
       "      <td>0.077493</td>\n",
       "      <td>201002</td>\n",
       "    </tr>\n",
       "    <tr>\n",
       "      <th>2</th>\n",
       "      <td>AAF0535</td>\n",
       "      <td>40.0</td>\n",
       "      <td>47.0</td>\n",
       "      <td>0.0</td>\n",
       "      <td>0.099803</td>\n",
       "      <td>0.063164</td>\n",
       "      <td>201003</td>\n",
       "    </tr>\n",
       "    <tr>\n",
       "      <th>3</th>\n",
       "      <td>AAF0535</td>\n",
       "      <td>45.0</td>\n",
       "      <td>48.0</td>\n",
       "      <td>0.0</td>\n",
       "      <td>0.093468</td>\n",
       "      <td>0.062940</td>\n",
       "      <td>201004</td>\n",
       "    </tr>\n",
       "    <tr>\n",
       "      <th>4</th>\n",
       "      <td>AAF0535</td>\n",
       "      <td>43.0</td>\n",
       "      <td>34.0</td>\n",
       "      <td>0.0</td>\n",
       "      <td>0.117118</td>\n",
       "      <td>0.066829</td>\n",
       "      <td>201005</td>\n",
       "    </tr>\n",
       "  </tbody>\n",
       "</table>\n",
       "</div>"
      ],
      "text/plain": [
       "      user  device_count  file_count  executable_count  sentiment_email  \\\n",
       "0  AAF0535          39.0        28.0               0.0         0.072534   \n",
       "1  AAF0535          34.0        43.0               1.0         0.054049   \n",
       "2  AAF0535          40.0        47.0               0.0         0.099803   \n",
       "3  AAF0535          45.0        48.0               0.0         0.093468   \n",
       "4  AAF0535          43.0        34.0               0.0         0.117118   \n",
       "\n",
       "   http_sentiment  period  \n",
       "0        0.073321  201001  \n",
       "1        0.077493  201002  \n",
       "2        0.063164  201003  \n",
       "3        0.062940  201004  \n",
       "4        0.066829  201005  "
      ]
     },
     "execution_count": 5,
     "metadata": {
      "tags": []
     },
     "output_type": "execute_result"
    }
   ],
   "source": [
    "full.head()"
   ]
  },
  {
   "cell_type": "code",
   "execution_count": 0,
   "metadata": {
    "colab": {},
    "colab_type": "code",
    "id": "RcW-QjLUccdm"
   },
   "outputs": [],
   "source": [
    "#reading file where we left off\n",
    "fi = pd.read_csv(pth + \"final_insdier_risk.csv\")"
   ]
  },
  {
   "cell_type": "code",
   "execution_count": 0,
   "metadata": {
    "colab": {},
    "colab_type": "code",
    "id": "ZtY6s1EYccds",
    "outputId": "d4228036-5327-4aeb-a0f2-1975907502dc"
   },
   "outputs": [
    {
     "data": {
      "text/plain": [
       "Index(['user', 'period', 'leak_risk_cnt', 'leak_we_cnt', 'leak_off_hr_cnt',\n",
       "       'thief_risk_cnt', 'thief_we_cnt', 'thief_off_hr_cnt',\n",
       "       'sabotage_risk_cnt', 'sabotage_we_cnt', 'sabotage_off_hr_cnt', 'adv',\n",
       "       'astronomy', 'banking', 'cars', 'chat', 'cooking', 'dating',\n",
       "       'downloads', 'drugs', 'forum', 'gamble', 'games-misc', 'games-online',\n",
       "       'government', 'hacking', 'homestyle', 'humor', 'imagehosting', 'isp',\n",
       "       'jobsearch', 'leaks', 'library', 'lingerie', 'moneylending', 'movies',\n",
       "       'music', 'news', 'other', 'planes', 'podcasts', 'porn', 'radiotv',\n",
       "       'realestate', 'redirector', 'religion', 'remotecontrol', 'restaurants',\n",
       "       'searchengines', 'shipping', 'shopping', 'socialnet', 'sports',\n",
       "       'spyware', 'telecommunication', 'tracker', 'trading', 'travel',\n",
       "       'updatesites', 'urlshortener', 'warez', 'webmail', 'webphone',\n",
       "       'webradio', 'webtv', 'wellness', 'competitor_cnt'],\n",
       "      dtype='object')"
      ]
     },
     "execution_count": 7,
     "metadata": {
      "tags": []
     },
     "output_type": "execute_result"
    }
   ],
   "source": [
    "fi.columns"
   ]
  },
  {
   "cell_type": "code",
   "execution_count": 0,
   "metadata": {
    "colab": {},
    "colab_type": "code",
    "id": "sMjsWONZccdx"
   },
   "outputs": [],
   "source": [
    "#sourcing file where the activity of pc behaviour are stored\n",
    "mla = pd.read_csv(pth + \"monthly_logged_activity.csv\", parse_dates = True)\n",
    "#dropping bad formatted date\n",
    "mla.drop(mla.columns[1], axis = 1, inplace = True)"
   ]
  },
  {
   "cell_type": "code",
   "execution_count": 0,
   "metadata": {
    "colab": {},
    "colab_type": "code",
    "id": "7BBkWtPSccd0",
    "outputId": "f7395f3a-f87d-49d5-891a-00c9c17ca9cd"
   },
   "outputs": [
    {
     "data": {
      "text/plain": [
       "Index(['user', 'min_logon', 'avg_min_logon', 'med_min_logon', 'cnt_logon',\n",
       "       'avg_cnt_logon', 'med_cnt_logon', 'max_logoff', 'avg_max_logoff',\n",
       "       'med_max_logoff', 'cnt_logoff', 'avg_cnt_logoff', 'med_cnt_logoff',\n",
       "       'avg_logged_time', 'med_logged_time', 'cnt_unauthorized_log', 'period'],\n",
       "      dtype='object')"
      ]
     },
     "execution_count": 9,
     "metadata": {
      "tags": []
     },
     "output_type": "execute_result"
    }
   ],
   "source": [
    "mla.columns"
   ]
  },
  {
   "cell_type": "code",
   "execution_count": 0,
   "metadata": {
    "colab": {},
    "colab_type": "code",
    "id": "5Di_zur6ccd4"
   },
   "outputs": [],
   "source": [
    "#setting the columns of type str/timedelta to seconds, as to have a more \"continuous\" feature\n",
    "mla[\"avg_logged_time\"] = pd.to_timedelta(mla[\"avg_logged_time\"]).map(lambda x: x.seconds)\n",
    "mla[\"med_logged_time\"] = pd.to_timedelta(mla[\"med_logged_time\"]).map(lambda x: x.seconds)"
   ]
  },
  {
   "cell_type": "code",
   "execution_count": 0,
   "metadata": {
    "colab": {},
    "colab_type": "code",
    "id": "wVwOYdurccd-",
    "outputId": "ed28e6a7-e6d0-4b12-d521-04a1a2313a0d"
   },
   "outputs": [
    {
     "name": "stdout",
     "output_type": "stream",
     "text": [
      "Wall time: 51.9 ms\n"
     ]
    }
   ],
   "source": [
    "%%time\n",
    "#merging for the final data set\n",
    "f1 = fi.merge(full, on = [\"period\", \"user\"])\n",
    "f1.fillna(0, inplace = True)\n",
    "f1.head()"
   ]
  },
  {
   "cell_type": "code",
   "execution_count": 0,
   "metadata": {
    "colab": {},
    "colab_type": "code",
    "id": "2Iwexu0ecceQ"
   },
   "outputs": [],
   "source": [
    "#reading directory of files where the employee monthly availability is stored\n",
    "from os import listdir\n",
    "from os.path import isfile, join\n",
    "pth1 = \"D:/GDrive/DatosInsider/r4.2/LDAP\"\n",
    "onlyfiles = [f for f in listdir(pth1) if isfile(join(pth1, f)) and f.split(\".\")[-1] == \"csv\"]"
   ]
  },
  {
   "cell_type": "code",
   "execution_count": 0,
   "metadata": {
    "colab": {},
    "colab_type": "code",
    "id": "2lnUeBBScceV",
    "outputId": "4265a4cc-1c55-4a82-af30-277ed106d738"
   },
   "outputs": [
    {
     "data": {
      "text/plain": [
       "['2009-12.csv',\n",
       " '2010-01.csv',\n",
       " '2010-02.csv',\n",
       " '2010-03.csv',\n",
       " '2010-04.csv',\n",
       " '2010-05.csv',\n",
       " '2010-06.csv',\n",
       " '2010-07.csv',\n",
       " '2010-08.csv',\n",
       " '2010-09.csv',\n",
       " '2010-10.csv',\n",
       " '2010-11.csv',\n",
       " '2010-12.csv',\n",
       " '2011-01.csv',\n",
       " '2011-02.csv',\n",
       " '2011-03.csv',\n",
       " '2011-04.csv',\n",
       " '2011-05.csv']"
      ]
     },
     "execution_count": 15,
     "metadata": {
      "tags": []
     },
     "output_type": "execute_result"
    }
   ],
   "source": [
    "onlyfiles"
   ]
  },
  {
   "cell_type": "code",
   "execution_count": 0,
   "metadata": {
    "colab": {},
    "colab_type": "code",
    "id": "yGfFMdTPcceZ"
   },
   "outputs": [],
   "source": [
    "#creating a single dataframe to have control of the features\n",
    "full = pd.DataFrame()\n",
    "for i in onlyfiles:\n",
    "    if \"employee_data\" in i:\n",
    "        continue\n",
    "    tmp = pd.read_csv(pth1 + \"/\" + i)\n",
    "    tmp[\"date\"] = i.split(\".\")[0]\n",
    "    full = pd.concat([full, tmp])"
   ]
  },
  {
   "cell_type": "code",
   "execution_count": 0,
   "metadata": {
    "colab": {},
    "colab_type": "code",
    "id": "ypQkk7cpccec",
    "outputId": "94a61851-c516-41f7-a543-28b1a78c8143"
   },
   "outputs": [
    {
     "data": {
      "text/html": [
       "<div>\n",
       "<style scoped>\n",
       "    .dataframe tbody tr th:only-of-type {\n",
       "        vertical-align: middle;\n",
       "    }\n",
       "\n",
       "    .dataframe tbody tr th {\n",
       "        vertical-align: top;\n",
       "    }\n",
       "\n",
       "    .dataframe thead th {\n",
       "        text-align: right;\n",
       "    }\n",
       "</style>\n",
       "<table border=\"1\" class=\"dataframe\">\n",
       "  <thead>\n",
       "    <tr style=\"text-align: right;\">\n",
       "      <th></th>\n",
       "      <th>employee_name</th>\n",
       "      <th>user_id</th>\n",
       "      <th>email</th>\n",
       "      <th>role</th>\n",
       "      <th>business_unit</th>\n",
       "      <th>functional_unit</th>\n",
       "      <th>department</th>\n",
       "      <th>team</th>\n",
       "      <th>supervisor</th>\n",
       "      <th>date</th>\n",
       "    </tr>\n",
       "  </thead>\n",
       "  <tbody>\n",
       "    <tr>\n",
       "      <th>0</th>\n",
       "      <td>Calvin Edan Love</td>\n",
       "      <td>CEL0561</td>\n",
       "      <td>Calvin.Edan.Love@dtaa.com</td>\n",
       "      <td>ComputerProgrammer</td>\n",
       "      <td>1</td>\n",
       "      <td>2 - ResearchAndEngineering</td>\n",
       "      <td>2 - SoftwareManagement</td>\n",
       "      <td>3 - Software</td>\n",
       "      <td>Stephanie Briar Harrington</td>\n",
       "      <td>2009-12</td>\n",
       "    </tr>\n",
       "    <tr>\n",
       "      <th>1</th>\n",
       "      <td>Christine Reagan Deleon</td>\n",
       "      <td>CRD0624</td>\n",
       "      <td>Christine.Reagan.Deleon@dtaa.com</td>\n",
       "      <td>Salesman</td>\n",
       "      <td>1</td>\n",
       "      <td>5 - SalesAndMarketing</td>\n",
       "      <td>2 - Sales</td>\n",
       "      <td>3 - RegionalSales</td>\n",
       "      <td>Winter Veda Burks</td>\n",
       "      <td>2009-12</td>\n",
       "    </tr>\n",
       "    <tr>\n",
       "      <th>2</th>\n",
       "      <td>Jade Felicia Caldwell</td>\n",
       "      <td>JFC0557</td>\n",
       "      <td>Jade.Felicia.Caldwell@dtaa.com</td>\n",
       "      <td>SoftwareEngineer</td>\n",
       "      <td>1</td>\n",
       "      <td>2 - ResearchAndEngineering</td>\n",
       "      <td>2 - SoftwareManagement</td>\n",
       "      <td>3 - Software</td>\n",
       "      <td>Stephanie Briar Harrington</td>\n",
       "      <td>2009-12</td>\n",
       "    </tr>\n",
       "    <tr>\n",
       "      <th>3</th>\n",
       "      <td>Aquila Stewart Dejesus</td>\n",
       "      <td>ASD0577</td>\n",
       "      <td>Aquila.Stewart.Dejesus@dtaa.com</td>\n",
       "      <td>ProductionLineWorker</td>\n",
       "      <td>1</td>\n",
       "      <td>3 - Manufacturing</td>\n",
       "      <td>3 - Assembly</td>\n",
       "      <td>3 - AssemblyDept</td>\n",
       "      <td>Whilemina Pandora England</td>\n",
       "      <td>2009-12</td>\n",
       "    </tr>\n",
       "    <tr>\n",
       "      <th>4</th>\n",
       "      <td>Micah Abdul Rojas</td>\n",
       "      <td>MAR0955</td>\n",
       "      <td>Micah.Abdul.Rojas@dtaa.com</td>\n",
       "      <td>ProductionLineWorker</td>\n",
       "      <td>1</td>\n",
       "      <td>3 - Manufacturing</td>\n",
       "      <td>3 - Assembly</td>\n",
       "      <td>6 - AssemblyDept</td>\n",
       "      <td>Sandra Beverly Diaz</td>\n",
       "      <td>2009-12</td>\n",
       "    </tr>\n",
       "  </tbody>\n",
       "</table>\n",
       "</div>"
      ],
      "text/plain": [
       "             employee_name  user_id                             email  \\\n",
       "0         Calvin Edan Love  CEL0561         Calvin.Edan.Love@dtaa.com   \n",
       "1  Christine Reagan Deleon  CRD0624  Christine.Reagan.Deleon@dtaa.com   \n",
       "2    Jade Felicia Caldwell  JFC0557    Jade.Felicia.Caldwell@dtaa.com   \n",
       "3   Aquila Stewart Dejesus  ASD0577   Aquila.Stewart.Dejesus@dtaa.com   \n",
       "4        Micah Abdul Rojas  MAR0955        Micah.Abdul.Rojas@dtaa.com   \n",
       "\n",
       "                   role  business_unit             functional_unit  \\\n",
       "0    ComputerProgrammer              1  2 - ResearchAndEngineering   \n",
       "1              Salesman              1       5 - SalesAndMarketing   \n",
       "2      SoftwareEngineer              1  2 - ResearchAndEngineering   \n",
       "3  ProductionLineWorker              1           3 - Manufacturing   \n",
       "4  ProductionLineWorker              1           3 - Manufacturing   \n",
       "\n",
       "               department               team                  supervisor  \\\n",
       "0  2 - SoftwareManagement       3 - Software  Stephanie Briar Harrington   \n",
       "1               2 - Sales  3 - RegionalSales           Winter Veda Burks   \n",
       "2  2 - SoftwareManagement       3 - Software  Stephanie Briar Harrington   \n",
       "3            3 - Assembly   3 - AssemblyDept   Whilemina Pandora England   \n",
       "4            3 - Assembly   6 - AssemblyDept         Sandra Beverly Diaz   \n",
       "\n",
       "      date  \n",
       "0  2009-12  \n",
       "1  2009-12  \n",
       "2  2009-12  \n",
       "3  2009-12  \n",
       "4  2009-12  "
      ]
     },
     "execution_count": 17,
     "metadata": {
      "tags": []
     },
     "output_type": "execute_result"
    }
   ],
   "source": [
    "full.head()"
   ]
  },
  {
   "cell_type": "code",
   "execution_count": 0,
   "metadata": {
    "colab": {},
    "colab_type": "code",
    "id": "_tIZLufZccef"
   },
   "outputs": [],
   "source": [
    "#setting the time dimension variables\n",
    "full[\"date\"] = pd.to_datetime(full[\"date\"])\n",
    "full[\"month\"] = full[\"date\"].map(lambda x: x.month)\n",
    "full[\"year\"] = full[\"date\"].map(lambda x: x.year)"
   ]
  },
  {
   "cell_type": "code",
   "execution_count": 0,
   "metadata": {
    "colab": {},
    "colab_type": "code",
    "id": "7RGaxWFSccei"
   },
   "outputs": [],
   "source": [
    "#grouping to count and generate features on the fly\n",
    "x = full.groupby([\"user_id\", \"year\", \"month\"]).agg({\"role\":\"first\", \"employee_name\":\"first\", \"supervisor\":\"first\"})\n",
    "x.reset_index(inplace = True)"
   ]
  },
  {
   "cell_type": "code",
   "execution_count": 0,
   "metadata": {
    "colab": {},
    "colab_type": "code",
    "id": "x-OsFJx_ccel",
    "outputId": "7a549725-7866-4a5a-ff49-d5b2a2168dd4"
   },
   "outputs": [
    {
     "data": {
      "text/html": [
       "<div>\n",
       "<style scoped>\n",
       "    .dataframe tbody tr th:only-of-type {\n",
       "        vertical-align: middle;\n",
       "    }\n",
       "\n",
       "    .dataframe tbody tr th {\n",
       "        vertical-align: top;\n",
       "    }\n",
       "\n",
       "    .dataframe thead th {\n",
       "        text-align: right;\n",
       "    }\n",
       "</style>\n",
       "<table border=\"1\" class=\"dataframe\">\n",
       "  <thead>\n",
       "    <tr style=\"text-align: right;\">\n",
       "      <th></th>\n",
       "      <th>user_id</th>\n",
       "      <th>year</th>\n",
       "      <th>month</th>\n",
       "      <th>supervisor</th>\n",
       "      <th>employee_name</th>\n",
       "      <th>role</th>\n",
       "    </tr>\n",
       "  </thead>\n",
       "  <tbody>\n",
       "    <tr>\n",
       "      <th>0</th>\n",
       "      <td>AAE0190</td>\n",
       "      <td>2009</td>\n",
       "      <td>12</td>\n",
       "      <td>Kirby Bo Pollard</td>\n",
       "      <td>August Armando Evans</td>\n",
       "      <td>Manager</td>\n",
       "    </tr>\n",
       "    <tr>\n",
       "      <th>1</th>\n",
       "      <td>AAE0190</td>\n",
       "      <td>2010</td>\n",
       "      <td>1</td>\n",
       "      <td>Kirby Bo Pollard</td>\n",
       "      <td>August Armando Evans</td>\n",
       "      <td>Manager</td>\n",
       "    </tr>\n",
       "    <tr>\n",
       "      <th>2</th>\n",
       "      <td>AAE0190</td>\n",
       "      <td>2010</td>\n",
       "      <td>2</td>\n",
       "      <td>Kirby Bo Pollard</td>\n",
       "      <td>August Armando Evans</td>\n",
       "      <td>Manager</td>\n",
       "    </tr>\n",
       "    <tr>\n",
       "      <th>3</th>\n",
       "      <td>AAE0190</td>\n",
       "      <td>2010</td>\n",
       "      <td>3</td>\n",
       "      <td>Kirby Bo Pollard</td>\n",
       "      <td>August Armando Evans</td>\n",
       "      <td>Manager</td>\n",
       "    </tr>\n",
       "    <tr>\n",
       "      <th>4</th>\n",
       "      <td>AAE0190</td>\n",
       "      <td>2010</td>\n",
       "      <td>4</td>\n",
       "      <td>Kirby Bo Pollard</td>\n",
       "      <td>August Armando Evans</td>\n",
       "      <td>Manager</td>\n",
       "    </tr>\n",
       "  </tbody>\n",
       "</table>\n",
       "</div>"
      ],
      "text/plain": [
       "   user_id  year  month        supervisor         employee_name     role\n",
       "0  AAE0190  2009     12  Kirby Bo Pollard  August Armando Evans  Manager\n",
       "1  AAE0190  2010      1  Kirby Bo Pollard  August Armando Evans  Manager\n",
       "2  AAE0190  2010      2  Kirby Bo Pollard  August Armando Evans  Manager\n",
       "3  AAE0190  2010      3  Kirby Bo Pollard  August Armando Evans  Manager\n",
       "4  AAE0190  2010      4  Kirby Bo Pollard  August Armando Evans  Manager"
      ]
     },
     "execution_count": 20,
     "metadata": {
      "tags": []
     },
     "output_type": "execute_result"
    }
   ],
   "source": [
    "x.head()"
   ]
  },
  {
   "cell_type": "code",
   "execution_count": 0,
   "metadata": {
    "colab": {},
    "colab_type": "code",
    "id": "_s4YgkNMcceq"
   },
   "outputs": [],
   "source": [
    "#merging to know who is supervisor of who\n",
    "sup = x.merge(x, left_on = [\"employee_name\"], right_on = [\"supervisor\"])[[\"user_id_x\", \"year_x\", \"month_x\"]].groupby([\"user_id_x\", \"year_x\", \"month_x\"]).count()\n",
    "sup.reset_index(inplace = True)"
   ]
  },
  {
   "cell_type": "code",
   "execution_count": 0,
   "metadata": {
    "colab": {},
    "colab_type": "code",
    "id": "vXr6A-BBccev",
    "outputId": "e0c7119b-524f-4b56-d97c-2b329430ea01"
   },
   "outputs": [
    {
     "data": {
      "text/html": [
       "<div>\n",
       "<style scoped>\n",
       "    .dataframe tbody tr th:only-of-type {\n",
       "        vertical-align: middle;\n",
       "    }\n",
       "\n",
       "    .dataframe tbody tr th {\n",
       "        vertical-align: top;\n",
       "    }\n",
       "\n",
       "    .dataframe thead th {\n",
       "        text-align: right;\n",
       "    }\n",
       "</style>\n",
       "<table border=\"1\" class=\"dataframe\">\n",
       "  <thead>\n",
       "    <tr style=\"text-align: right;\">\n",
       "      <th></th>\n",
       "      <th>user_id_x</th>\n",
       "      <th>year_x</th>\n",
       "      <th>month_x</th>\n",
       "    </tr>\n",
       "  </thead>\n",
       "  <tbody>\n",
       "    <tr>\n",
       "      <th>0</th>\n",
       "      <td>AAE0190</td>\n",
       "      <td>2009</td>\n",
       "      <td>12</td>\n",
       "    </tr>\n",
       "    <tr>\n",
       "      <th>1</th>\n",
       "      <td>AAE0190</td>\n",
       "      <td>2010</td>\n",
       "      <td>1</td>\n",
       "    </tr>\n",
       "    <tr>\n",
       "      <th>2</th>\n",
       "      <td>AAE0190</td>\n",
       "      <td>2010</td>\n",
       "      <td>2</td>\n",
       "    </tr>\n",
       "    <tr>\n",
       "      <th>3</th>\n",
       "      <td>AAE0190</td>\n",
       "      <td>2010</td>\n",
       "      <td>3</td>\n",
       "    </tr>\n",
       "    <tr>\n",
       "      <th>4</th>\n",
       "      <td>AAE0190</td>\n",
       "      <td>2010</td>\n",
       "      <td>4</td>\n",
       "    </tr>\n",
       "    <tr>\n",
       "      <th>...</th>\n",
       "      <td>...</td>\n",
       "      <td>...</td>\n",
       "      <td>...</td>\n",
       "    </tr>\n",
       "    <tr>\n",
       "      <th>1201</th>\n",
       "      <td>WVB0539</td>\n",
       "      <td>2011</td>\n",
       "      <td>1</td>\n",
       "    </tr>\n",
       "    <tr>\n",
       "      <th>1202</th>\n",
       "      <td>WVB0539</td>\n",
       "      <td>2011</td>\n",
       "      <td>2</td>\n",
       "    </tr>\n",
       "    <tr>\n",
       "      <th>1203</th>\n",
       "      <td>WVB0539</td>\n",
       "      <td>2011</td>\n",
       "      <td>3</td>\n",
       "    </tr>\n",
       "    <tr>\n",
       "      <th>1204</th>\n",
       "      <td>WVB0539</td>\n",
       "      <td>2011</td>\n",
       "      <td>4</td>\n",
       "    </tr>\n",
       "    <tr>\n",
       "      <th>1205</th>\n",
       "      <td>WVB0539</td>\n",
       "      <td>2011</td>\n",
       "      <td>5</td>\n",
       "    </tr>\n",
       "  </tbody>\n",
       "</table>\n",
       "<p>1206 rows × 3 columns</p>\n",
       "</div>"
      ],
      "text/plain": [
       "     user_id_x  year_x  month_x\n",
       "0      AAE0190    2009       12\n",
       "1      AAE0190    2010        1\n",
       "2      AAE0190    2010        2\n",
       "3      AAE0190    2010        3\n",
       "4      AAE0190    2010        4\n",
       "...        ...     ...      ...\n",
       "1201   WVB0539    2011        1\n",
       "1202   WVB0539    2011        2\n",
       "1203   WVB0539    2011        3\n",
       "1204   WVB0539    2011        4\n",
       "1205   WVB0539    2011        5\n",
       "\n",
       "[1206 rows x 3 columns]"
      ]
     },
     "execution_count": 22,
     "metadata": {
      "tags": []
     },
     "output_type": "execute_result"
    }
   ],
   "source": [
    "sup"
   ]
  },
  {
   "cell_type": "code",
   "execution_count": 0,
   "metadata": {
    "colab": {},
    "colab_type": "code",
    "id": "9OGAMInNcce0"
   },
   "outputs": [],
   "source": [
    "#setting the key value\n",
    "sup[\"period\"] = sup.apply(lambda x: datetime.datetime(x.year_x, x.month_x, 1).strftime(\"%Y%m\"), axis = 1)"
   ]
  },
  {
   "cell_type": "code",
   "execution_count": 0,
   "metadata": {
    "colab": {},
    "colab_type": "code",
    "id": "PfxPzUt1cce4",
    "outputId": "318116cf-2327-487f-cb9e-f62acc6506df"
   },
   "outputs": [
    {
     "data": {
      "text/html": [
       "<div>\n",
       "<style scoped>\n",
       "    .dataframe tbody tr th:only-of-type {\n",
       "        vertical-align: middle;\n",
       "    }\n",
       "\n",
       "    .dataframe tbody tr th {\n",
       "        vertical-align: top;\n",
       "    }\n",
       "\n",
       "    .dataframe thead th {\n",
       "        text-align: right;\n",
       "    }\n",
       "</style>\n",
       "<table border=\"1\" class=\"dataframe\">\n",
       "  <thead>\n",
       "    <tr style=\"text-align: right;\">\n",
       "      <th></th>\n",
       "      <th>user_id_x</th>\n",
       "      <th>period</th>\n",
       "    </tr>\n",
       "  </thead>\n",
       "  <tbody>\n",
       "    <tr>\n",
       "      <th>0</th>\n",
       "      <td>AAE0190</td>\n",
       "      <td>200912</td>\n",
       "    </tr>\n",
       "    <tr>\n",
       "      <th>1</th>\n",
       "      <td>AAE0190</td>\n",
       "      <td>201001</td>\n",
       "    </tr>\n",
       "    <tr>\n",
       "      <th>2</th>\n",
       "      <td>AAE0190</td>\n",
       "      <td>201002</td>\n",
       "    </tr>\n",
       "    <tr>\n",
       "      <th>3</th>\n",
       "      <td>AAE0190</td>\n",
       "      <td>201003</td>\n",
       "    </tr>\n",
       "    <tr>\n",
       "      <th>4</th>\n",
       "      <td>AAE0190</td>\n",
       "      <td>201004</td>\n",
       "    </tr>\n",
       "  </tbody>\n",
       "</table>\n",
       "</div>"
      ],
      "text/plain": [
       "  user_id_x  period\n",
       "0   AAE0190  200912\n",
       "1   AAE0190  201001\n",
       "2   AAE0190  201002\n",
       "3   AAE0190  201003\n",
       "4   AAE0190  201004"
      ]
     },
     "execution_count": 24,
     "metadata": {
      "tags": []
     },
     "output_type": "execute_result"
    }
   ],
   "source": [
    "#setting columns\n",
    "sup = sup[[\"user_id_x\", \"period\"]]\n",
    "sup.head()"
   ]
  },
  {
   "cell_type": "code",
   "execution_count": 0,
   "metadata": {
    "colab": {},
    "colab_type": "code",
    "id": "YYfmj-Bacce7",
    "outputId": "33d3a5f4-9607-44dc-81c4-6c037acd21bf"
   },
   "outputs": [
    {
     "name": "stderr",
     "output_type": "stream",
     "text": [
      "C:\\Users\\Chema\\Anaconda3\\envs\\UP\\lib\\site-packages\\ipykernel_launcher.py:2: SettingWithCopyWarning: \n",
      "A value is trying to be set on a copy of a slice from a DataFrame.\n",
      "Try using .loc[row_indexer,col_indexer] = value instead\n",
      "\n",
      "See the caveats in the documentation: http://pandas.pydata.org/pandas-docs/stable/user_guide/indexing.html#returning-a-view-versus-a-copy\n",
      "  \n"
     ]
    }
   ],
   "source": [
    "#setting columns and value\n",
    "sup.columns = [\"user\", \"period\"]\n",
    "sup[\"isSupervisor\"] = 1"
   ]
  },
  {
   "cell_type": "code",
   "execution_count": 0,
   "metadata": {
    "colab": {},
    "colab_type": "code",
    "id": "nd6uj0l4ccfB"
   },
   "outputs": [],
   "source": [
    "#storing the file\n",
    "sup.to_csv(pth + \"supervisors.csv\")"
   ]
  },
  {
   "cell_type": "code",
   "execution_count": 0,
   "metadata": {
    "colab": {},
    "colab_type": "code",
    "id": "N8fHRQMrccfG",
    "outputId": "1cbab910-b627-40e5-fbae-7d54f16214e7"
   },
   "outputs": [
    {
     "data": {
      "text/html": [
       "<div>\n",
       "<style scoped>\n",
       "    .dataframe tbody tr th:only-of-type {\n",
       "        vertical-align: middle;\n",
       "    }\n",
       "\n",
       "    .dataframe tbody tr th {\n",
       "        vertical-align: top;\n",
       "    }\n",
       "\n",
       "    .dataframe thead th {\n",
       "        text-align: right;\n",
       "    }\n",
       "</style>\n",
       "<table border=\"1\" class=\"dataframe\">\n",
       "  <thead>\n",
       "    <tr style=\"text-align: right;\">\n",
       "      <th></th>\n",
       "      <th>user</th>\n",
       "      <th>period</th>\n",
       "      <th>isSupervisor</th>\n",
       "    </tr>\n",
       "  </thead>\n",
       "  <tbody>\n",
       "    <tr>\n",
       "      <th>0</th>\n",
       "      <td>AAE0190</td>\n",
       "      <td>200912</td>\n",
       "      <td>1</td>\n",
       "    </tr>\n",
       "    <tr>\n",
       "      <th>1</th>\n",
       "      <td>AAE0190</td>\n",
       "      <td>201001</td>\n",
       "      <td>1</td>\n",
       "    </tr>\n",
       "    <tr>\n",
       "      <th>2</th>\n",
       "      <td>AAE0190</td>\n",
       "      <td>201002</td>\n",
       "      <td>1</td>\n",
       "    </tr>\n",
       "    <tr>\n",
       "      <th>3</th>\n",
       "      <td>AAE0190</td>\n",
       "      <td>201003</td>\n",
       "      <td>1</td>\n",
       "    </tr>\n",
       "    <tr>\n",
       "      <th>4</th>\n",
       "      <td>AAE0190</td>\n",
       "      <td>201004</td>\n",
       "      <td>1</td>\n",
       "    </tr>\n",
       "  </tbody>\n",
       "</table>\n",
       "</div>"
      ],
      "text/plain": [
       "      user  period  isSupervisor\n",
       "0  AAE0190  200912             1\n",
       "1  AAE0190  201001             1\n",
       "2  AAE0190  201002             1\n",
       "3  AAE0190  201003             1\n",
       "4  AAE0190  201004             1"
      ]
     },
     "execution_count": 27,
     "metadata": {
      "tags": []
     },
     "output_type": "execute_result"
    }
   ],
   "source": [
    "sup.head()"
   ]
  },
  {
   "cell_type": "code",
   "execution_count": 0,
   "metadata": {
    "colab": {},
    "colab_type": "code",
    "id": "pT4dFYnzccfM",
    "outputId": "87205da4-9ac5-4a6e-b03e-c17c76c49417"
   },
   "outputs": [
    {
     "name": "stderr",
     "output_type": "stream",
     "text": [
      "C:\\Users\\Chema\\Anaconda3\\envs\\UP\\lib\\site-packages\\ipykernel_launcher.py:1: SettingWithCopyWarning: \n",
      "A value is trying to be set on a copy of a slice from a DataFrame.\n",
      "Try using .loc[row_indexer,col_indexer] = value instead\n",
      "\n",
      "See the caveats in the documentation: http://pandas.pydata.org/pandas-docs/stable/user_guide/indexing.html#returning-a-view-versus-a-copy\n",
      "  \"\"\"Entry point for launching an IPython kernel.\n"
     ]
    }
   ],
   "source": [
    "#setting the right type\n",
    "sup[\"period\"] = sup[\"period\"].astype(int) "
   ]
  },
  {
   "cell_type": "code",
   "execution_count": 0,
   "metadata": {
    "colab": {},
    "colab_type": "code",
    "id": "1tyDnb-8ccfQ"
   },
   "outputs": [],
   "source": [
    "#Merging for the final data set\n",
    "f1 = f1.merge(sup, on = [\"user\", \"period\"], how = \"left\")\n",
    "f1.fillna(0, inplace = True)"
   ]
  },
  {
   "cell_type": "markdown",
   "metadata": {
    "colab_type": "text",
    "id": "--9TnpVlccfW"
   },
   "source": [
    "# Salary and gender\n"
   ]
  },
  {
   "cell_type": "code",
   "execution_count": 0,
   "metadata": {
    "colab": {},
    "colab_type": "code",
    "id": "Exi_sNvAccfY",
    "outputId": "b42aa842-d714-43b0-aec6-571c26e80a7a"
   },
   "outputs": [
    {
     "data": {
      "text/html": [
       "<div>\n",
       "<style scoped>\n",
       "    .dataframe tbody tr th:only-of-type {\n",
       "        vertical-align: middle;\n",
       "    }\n",
       "\n",
       "    .dataframe tbody tr th {\n",
       "        vertical-align: top;\n",
       "    }\n",
       "\n",
       "    .dataframe thead th {\n",
       "        text-align: right;\n",
       "    }\n",
       "</style>\n",
       "<table border=\"1\" class=\"dataframe\">\n",
       "  <thead>\n",
       "    <tr style=\"text-align: right;\">\n",
       "      <th></th>\n",
       "      <th>Unnamed: 0</th>\n",
       "      <th>employee_name</th>\n",
       "      <th>user_id</th>\n",
       "      <th>email</th>\n",
       "      <th>role</th>\n",
       "      <th>business_unit</th>\n",
       "      <th>functional_unit</th>\n",
       "      <th>department</th>\n",
       "      <th>team</th>\n",
       "      <th>supervisor</th>\n",
       "      <th>Mean</th>\n",
       "      <th>Range</th>\n",
       "    </tr>\n",
       "  </thead>\n",
       "  <tbody>\n",
       "    <tr>\n",
       "      <th>0</th>\n",
       "      <td>0</td>\n",
       "      <td>Calvin Edan Love</td>\n",
       "      <td>CEL0561</td>\n",
       "      <td>Calvin.Edan.Love@dtaa.com</td>\n",
       "      <td>ComputerProgrammer</td>\n",
       "      <td>1</td>\n",
       "      <td>2 - ResearchAndEngineering</td>\n",
       "      <td>2 - SoftwareManagement</td>\n",
       "      <td>3 - Software</td>\n",
       "      <td>Stephanie Briar Harrington</td>\n",
       "      <td>62841</td>\n",
       "      <td>$41k - $99k</td>\n",
       "    </tr>\n",
       "    <tr>\n",
       "      <th>1</th>\n",
       "      <td>1</td>\n",
       "      <td>Miriam Shoshana Donovan</td>\n",
       "      <td>MSD0939</td>\n",
       "      <td>Miriam.Shoshana.Donovan@dtaa.com</td>\n",
       "      <td>ComputerProgrammer</td>\n",
       "      <td>1</td>\n",
       "      <td>2 - ResearchAndEngineering</td>\n",
       "      <td>2 - SoftwareManagement</td>\n",
       "      <td>6 - Software</td>\n",
       "      <td>Caleb Mason Ball</td>\n",
       "      <td>62841</td>\n",
       "      <td>$41k - $99k</td>\n",
       "    </tr>\n",
       "    <tr>\n",
       "      <th>2</th>\n",
       "      <td>2</td>\n",
       "      <td>William Theodore Reeves</td>\n",
       "      <td>WTR0563</td>\n",
       "      <td>William.Theodore.Reeves@dtaa.com</td>\n",
       "      <td>ComputerProgrammer</td>\n",
       "      <td>1</td>\n",
       "      <td>2 - ResearchAndEngineering</td>\n",
       "      <td>2 - SoftwareManagement</td>\n",
       "      <td>3 - Software</td>\n",
       "      <td>Stephanie Briar Harrington</td>\n",
       "      <td>62841</td>\n",
       "      <td>$41k - $99k</td>\n",
       "    </tr>\n",
       "    <tr>\n",
       "      <th>3</th>\n",
       "      <td>3</td>\n",
       "      <td>Nicolas Kadeem Hayden</td>\n",
       "      <td>NKH0807</td>\n",
       "      <td>Nicolas.Kadeem.Hayden@dtaa.com</td>\n",
       "      <td>ComputerProgrammer</td>\n",
       "      <td>1</td>\n",
       "      <td>2 - ResearchAndEngineering</td>\n",
       "      <td>2 - SoftwareManagement</td>\n",
       "      <td>5 - Software</td>\n",
       "      <td>Sara Gail George</td>\n",
       "      <td>62841</td>\n",
       "      <td>$41k - $99k</td>\n",
       "    </tr>\n",
       "    <tr>\n",
       "      <th>4</th>\n",
       "      <td>4</td>\n",
       "      <td>Dominic Howard Mcconnell</td>\n",
       "      <td>DHM0937</td>\n",
       "      <td>Dominic.Howard.Mcconnell@dtaa.com</td>\n",
       "      <td>ComputerProgrammer</td>\n",
       "      <td>1</td>\n",
       "      <td>2 - ResearchAndEngineering</td>\n",
       "      <td>2 - SoftwareManagement</td>\n",
       "      <td>6 - Software</td>\n",
       "      <td>Caleb Mason Ball</td>\n",
       "      <td>62841</td>\n",
       "      <td>$41k - $99k</td>\n",
       "    </tr>\n",
       "  </tbody>\n",
       "</table>\n",
       "</div>"
      ],
      "text/plain": [
       "   Unnamed: 0             employee_name  user_id  \\\n",
       "0           0          Calvin Edan Love  CEL0561   \n",
       "1           1   Miriam Shoshana Donovan  MSD0939   \n",
       "2           2   William Theodore Reeves  WTR0563   \n",
       "3           3     Nicolas Kadeem Hayden  NKH0807   \n",
       "4           4  Dominic Howard Mcconnell  DHM0937   \n",
       "\n",
       "                               email                role  business_unit  \\\n",
       "0          Calvin.Edan.Love@dtaa.com  ComputerProgrammer              1   \n",
       "1   Miriam.Shoshana.Donovan@dtaa.com  ComputerProgrammer              1   \n",
       "2   William.Theodore.Reeves@dtaa.com  ComputerProgrammer              1   \n",
       "3     Nicolas.Kadeem.Hayden@dtaa.com  ComputerProgrammer              1   \n",
       "4  Dominic.Howard.Mcconnell@dtaa.com  ComputerProgrammer              1   \n",
       "\n",
       "              functional_unit              department          team  \\\n",
       "0  2 - ResearchAndEngineering  2 - SoftwareManagement  3 - Software   \n",
       "1  2 - ResearchAndEngineering  2 - SoftwareManagement  6 - Software   \n",
       "2  2 - ResearchAndEngineering  2 - SoftwareManagement  3 - Software   \n",
       "3  2 - ResearchAndEngineering  2 - SoftwareManagement  5 - Software   \n",
       "4  2 - ResearchAndEngineering  2 - SoftwareManagement  6 - Software   \n",
       "\n",
       "                   supervisor   Mean        Range  \n",
       "0  Stephanie Briar Harrington  62841  $41k - $99k  \n",
       "1            Caleb Mason Ball  62841  $41k - $99k  \n",
       "2  Stephanie Briar Harrington  62841  $41k - $99k  \n",
       "3            Sara Gail George  62841  $41k - $99k  \n",
       "4            Caleb Mason Ball  62841  $41k - $99k  "
      ]
     },
     "execution_count": 30,
     "metadata": {
      "tags": []
     },
     "output_type": "execute_result"
    }
   ],
   "source": [
    "#Reading file where salaries and gender are stored\n",
    "sl = pd.read_csv(pth + \"employee_data_salaries.csv\")\n",
    "sl.head()"
   ]
  },
  {
   "cell_type": "code",
   "execution_count": 0,
   "metadata": {
    "colab": {},
    "colab_type": "code",
    "id": "yG3c1As3ccfe"
   },
   "outputs": [],
   "source": [
    "#subsetting and setting the right column name\n",
    "sl = sl[[\"user_id\", \"Mean\"]]\n",
    "sl.columns = [\"user\", \"mean_salary\"]"
   ]
  },
  {
   "cell_type": "code",
   "execution_count": 0,
   "metadata": {
    "colab": {},
    "colab_type": "code",
    "id": "yj9xQfq8ccfh",
    "outputId": "3db02eb6-1724-4029-f2cd-339b455c51a7"
   },
   "outputs": [
    {
     "data": {
      "text/html": [
       "<div>\n",
       "<style scoped>\n",
       "    .dataframe tbody tr th:only-of-type {\n",
       "        vertical-align: middle;\n",
       "    }\n",
       "\n",
       "    .dataframe tbody tr th {\n",
       "        vertical-align: top;\n",
       "    }\n",
       "\n",
       "    .dataframe thead th {\n",
       "        text-align: right;\n",
       "    }\n",
       "</style>\n",
       "<table border=\"1\" class=\"dataframe\">\n",
       "  <thead>\n",
       "    <tr style=\"text-align: right;\">\n",
       "      <th></th>\n",
       "      <th>user</th>\n",
       "      <th>period</th>\n",
       "      <th>leak_risk_cnt</th>\n",
       "      <th>leak_we_cnt</th>\n",
       "      <th>leak_off_hr_cnt</th>\n",
       "      <th>thief_risk_cnt</th>\n",
       "      <th>thief_we_cnt</th>\n",
       "      <th>thief_off_hr_cnt</th>\n",
       "      <th>sabotage_risk_cnt</th>\n",
       "      <th>sabotage_we_cnt</th>\n",
       "      <th>...</th>\n",
       "      <th>avg_max_logoff</th>\n",
       "      <th>med_max_logoff</th>\n",
       "      <th>cnt_logoff</th>\n",
       "      <th>avg_cnt_logoff</th>\n",
       "      <th>med_cnt_logoff</th>\n",
       "      <th>avg_logged_time</th>\n",
       "      <th>med_logged_time</th>\n",
       "      <th>cnt_unauthorized_log</th>\n",
       "      <th>isSupervisor</th>\n",
       "      <th>mean_salary</th>\n",
       "    </tr>\n",
       "  </thead>\n",
       "  <tbody>\n",
       "    <tr>\n",
       "      <th>0</th>\n",
       "      <td>AAE0190</td>\n",
       "      <td>201001</td>\n",
       "      <td>0</td>\n",
       "      <td>0</td>\n",
       "      <td>0</td>\n",
       "      <td>45</td>\n",
       "      <td>0</td>\n",
       "      <td>0</td>\n",
       "      <td>161</td>\n",
       "      <td>0</td>\n",
       "      <td>...</td>\n",
       "      <td>65988.000000</td>\n",
       "      <td>66030.0</td>\n",
       "      <td>20</td>\n",
       "      <td>1.0</td>\n",
       "      <td>1.0</td>\n",
       "      <td>36420</td>\n",
       "      <td>36570</td>\n",
       "      <td>20</td>\n",
       "      <td>1.0</td>\n",
       "      <td>64778</td>\n",
       "    </tr>\n",
       "    <tr>\n",
       "      <th>1</th>\n",
       "      <td>AAE0190</td>\n",
       "      <td>201002</td>\n",
       "      <td>0</td>\n",
       "      <td>0</td>\n",
       "      <td>0</td>\n",
       "      <td>25</td>\n",
       "      <td>0</td>\n",
       "      <td>0</td>\n",
       "      <td>200</td>\n",
       "      <td>0</td>\n",
       "      <td>...</td>\n",
       "      <td>65721.000000</td>\n",
       "      <td>65700.0</td>\n",
       "      <td>20</td>\n",
       "      <td>1.0</td>\n",
       "      <td>1.0</td>\n",
       "      <td>36102</td>\n",
       "      <td>36030</td>\n",
       "      <td>20</td>\n",
       "      <td>1.0</td>\n",
       "      <td>64778</td>\n",
       "    </tr>\n",
       "    <tr>\n",
       "      <th>2</th>\n",
       "      <td>AAE0190</td>\n",
       "      <td>201003</td>\n",
       "      <td>0</td>\n",
       "      <td>0</td>\n",
       "      <td>0</td>\n",
       "      <td>68</td>\n",
       "      <td>0</td>\n",
       "      <td>0</td>\n",
       "      <td>235</td>\n",
       "      <td>0</td>\n",
       "      <td>...</td>\n",
       "      <td>65953.043478</td>\n",
       "      <td>65880.0</td>\n",
       "      <td>23</td>\n",
       "      <td>1.0</td>\n",
       "      <td>1.0</td>\n",
       "      <td>36268</td>\n",
       "      <td>36360</td>\n",
       "      <td>23</td>\n",
       "      <td>1.0</td>\n",
       "      <td>64778</td>\n",
       "    </tr>\n",
       "    <tr>\n",
       "      <th>3</th>\n",
       "      <td>AAE0190</td>\n",
       "      <td>201004</td>\n",
       "      <td>0</td>\n",
       "      <td>0</td>\n",
       "      <td>0</td>\n",
       "      <td>50</td>\n",
       "      <td>0</td>\n",
       "      <td>0</td>\n",
       "      <td>222</td>\n",
       "      <td>0</td>\n",
       "      <td>...</td>\n",
       "      <td>65848.571429</td>\n",
       "      <td>65760.0</td>\n",
       "      <td>21</td>\n",
       "      <td>1.0</td>\n",
       "      <td>1.0</td>\n",
       "      <td>36374</td>\n",
       "      <td>36480</td>\n",
       "      <td>21</td>\n",
       "      <td>1.0</td>\n",
       "      <td>64778</td>\n",
       "    </tr>\n",
       "    <tr>\n",
       "      <th>4</th>\n",
       "      <td>AAE0190</td>\n",
       "      <td>201005</td>\n",
       "      <td>0</td>\n",
       "      <td>0</td>\n",
       "      <td>0</td>\n",
       "      <td>44</td>\n",
       "      <td>0</td>\n",
       "      <td>0</td>\n",
       "      <td>186</td>\n",
       "      <td>0</td>\n",
       "      <td>...</td>\n",
       "      <td>65871.000000</td>\n",
       "      <td>65760.0</td>\n",
       "      <td>20</td>\n",
       "      <td>1.0</td>\n",
       "      <td>1.0</td>\n",
       "      <td>36363</td>\n",
       "      <td>36420</td>\n",
       "      <td>20</td>\n",
       "      <td>1.0</td>\n",
       "      <td>64778</td>\n",
       "    </tr>\n",
       "  </tbody>\n",
       "</table>\n",
       "<p>5 rows × 89 columns</p>\n",
       "</div>"
      ],
      "text/plain": [
       "      user  period  leak_risk_cnt  leak_we_cnt  leak_off_hr_cnt  \\\n",
       "0  AAE0190  201001              0            0                0   \n",
       "1  AAE0190  201002              0            0                0   \n",
       "2  AAE0190  201003              0            0                0   \n",
       "3  AAE0190  201004              0            0                0   \n",
       "4  AAE0190  201005              0            0                0   \n",
       "\n",
       "   thief_risk_cnt  thief_we_cnt  thief_off_hr_cnt  sabotage_risk_cnt  \\\n",
       "0              45             0                 0                161   \n",
       "1              25             0                 0                200   \n",
       "2              68             0                 0                235   \n",
       "3              50             0                 0                222   \n",
       "4              44             0                 0                186   \n",
       "\n",
       "   sabotage_we_cnt  ...  avg_max_logoff  med_max_logoff  cnt_logoff  \\\n",
       "0                0  ...    65988.000000         66030.0          20   \n",
       "1                0  ...    65721.000000         65700.0          20   \n",
       "2                0  ...    65953.043478         65880.0          23   \n",
       "3                0  ...    65848.571429         65760.0          21   \n",
       "4                0  ...    65871.000000         65760.0          20   \n",
       "\n",
       "   avg_cnt_logoff  med_cnt_logoff  avg_logged_time  med_logged_time  \\\n",
       "0             1.0             1.0            36420            36570   \n",
       "1             1.0             1.0            36102            36030   \n",
       "2             1.0             1.0            36268            36360   \n",
       "3             1.0             1.0            36374            36480   \n",
       "4             1.0             1.0            36363            36420   \n",
       "\n",
       "   cnt_unauthorized_log  isSupervisor  mean_salary  \n",
       "0                    20           1.0        64778  \n",
       "1                    20           1.0        64778  \n",
       "2                    23           1.0        64778  \n",
       "3                    21           1.0        64778  \n",
       "4                    20           1.0        64778  \n",
       "\n",
       "[5 rows x 89 columns]"
      ]
     },
     "execution_count": 32,
     "metadata": {
      "tags": []
     },
     "output_type": "execute_result"
    }
   ],
   "source": [
    "#merging for the final data set\n",
    "f1 = f1.merge(sl, on = [\"user\"], how = \"left\")\n",
    "f1.head()"
   ]
  },
  {
   "cell_type": "code",
   "execution_count": 0,
   "metadata": {
    "colab": {},
    "colab_type": "code",
    "id": "ZW3Ve4mCccfl",
    "outputId": "f6239a78-6101-4b8c-cb1d-f775eb4fabe5"
   },
   "outputs": [
    {
     "data": {
      "text/html": [
       "<div>\n",
       "<style scoped>\n",
       "    .dataframe tbody tr th:only-of-type {\n",
       "        vertical-align: middle;\n",
       "    }\n",
       "\n",
       "    .dataframe tbody tr th {\n",
       "        vertical-align: top;\n",
       "    }\n",
       "\n",
       "    .dataframe thead th {\n",
       "        text-align: right;\n",
       "    }\n",
       "</style>\n",
       "<table border=\"1\" class=\"dataframe\">\n",
       "  <thead>\n",
       "    <tr style=\"text-align: right;\">\n",
       "      <th></th>\n",
       "      <th>user</th>\n",
       "      <th>gender</th>\n",
       "    </tr>\n",
       "  </thead>\n",
       "  <tbody>\n",
       "    <tr>\n",
       "      <th>0</th>\n",
       "      <td>CEL0561</td>\n",
       "      <td>male</td>\n",
       "    </tr>\n",
       "    <tr>\n",
       "      <th>1</th>\n",
       "      <td>CRD0624</td>\n",
       "      <td>female</td>\n",
       "    </tr>\n",
       "    <tr>\n",
       "      <th>2</th>\n",
       "      <td>JFC0557</td>\n",
       "      <td>female</td>\n",
       "    </tr>\n",
       "    <tr>\n",
       "      <th>3</th>\n",
       "      <td>ASD0577</td>\n",
       "      <td>male</td>\n",
       "    </tr>\n",
       "    <tr>\n",
       "      <th>4</th>\n",
       "      <td>MAR0955</td>\n",
       "      <td>male</td>\n",
       "    </tr>\n",
       "  </tbody>\n",
       "</table>\n",
       "</div>"
      ],
      "text/plain": [
       "      user  gender\n",
       "0  CEL0561    male\n",
       "1  CRD0624  female\n",
       "2  JFC0557  female\n",
       "3  ASD0577    male\n",
       "4  MAR0955    male"
      ]
     },
     "execution_count": 33,
     "metadata": {
      "tags": []
     },
     "output_type": "execute_result"
    }
   ],
   "source": [
    "#subsetting and setting right column names\n",
    "sx = pd.read_csv(pth + \"employee_data.csv\")\n",
    "sx = sx[[\"user_id\", \"gender\"]]\n",
    "sx.columns = [\"user\", \"gender\"]\n",
    "sx.head()"
   ]
  },
  {
   "cell_type": "code",
   "execution_count": 0,
   "metadata": {
    "colab": {},
    "colab_type": "code",
    "id": "Us1gpZYSccfn",
    "outputId": "58f02ce0-8c08-48aa-802c-f3f6d66687ec"
   },
   "outputs": [
    {
     "data": {
      "text/html": [
       "<div>\n",
       "<style scoped>\n",
       "    .dataframe tbody tr th:only-of-type {\n",
       "        vertical-align: middle;\n",
       "    }\n",
       "\n",
       "    .dataframe tbody tr th {\n",
       "        vertical-align: top;\n",
       "    }\n",
       "\n",
       "    .dataframe thead th {\n",
       "        text-align: right;\n",
       "    }\n",
       "</style>\n",
       "<table border=\"1\" class=\"dataframe\">\n",
       "  <thead>\n",
       "    <tr style=\"text-align: right;\">\n",
       "      <th></th>\n",
       "      <th>user</th>\n",
       "      <th>period</th>\n",
       "      <th>leak_risk_cnt</th>\n",
       "      <th>leak_we_cnt</th>\n",
       "      <th>leak_off_hr_cnt</th>\n",
       "      <th>thief_risk_cnt</th>\n",
       "      <th>thief_we_cnt</th>\n",
       "      <th>thief_off_hr_cnt</th>\n",
       "      <th>sabotage_risk_cnt</th>\n",
       "      <th>sabotage_we_cnt</th>\n",
       "      <th>...</th>\n",
       "      <th>med_max_logoff</th>\n",
       "      <th>cnt_logoff</th>\n",
       "      <th>avg_cnt_logoff</th>\n",
       "      <th>med_cnt_logoff</th>\n",
       "      <th>avg_logged_time</th>\n",
       "      <th>med_logged_time</th>\n",
       "      <th>cnt_unauthorized_log</th>\n",
       "      <th>isSupervisor</th>\n",
       "      <th>mean_salary</th>\n",
       "      <th>gender</th>\n",
       "    </tr>\n",
       "  </thead>\n",
       "  <tbody>\n",
       "    <tr>\n",
       "      <th>0</th>\n",
       "      <td>AAE0190</td>\n",
       "      <td>201001</td>\n",
       "      <td>0</td>\n",
       "      <td>0</td>\n",
       "      <td>0</td>\n",
       "      <td>45</td>\n",
       "      <td>0</td>\n",
       "      <td>0</td>\n",
       "      <td>161</td>\n",
       "      <td>0</td>\n",
       "      <td>...</td>\n",
       "      <td>66030.0</td>\n",
       "      <td>20</td>\n",
       "      <td>1.0</td>\n",
       "      <td>1.0</td>\n",
       "      <td>36420</td>\n",
       "      <td>36570</td>\n",
       "      <td>20</td>\n",
       "      <td>1.0</td>\n",
       "      <td>64778</td>\n",
       "      <td>male</td>\n",
       "    </tr>\n",
       "    <tr>\n",
       "      <th>1</th>\n",
       "      <td>AAE0190</td>\n",
       "      <td>201002</td>\n",
       "      <td>0</td>\n",
       "      <td>0</td>\n",
       "      <td>0</td>\n",
       "      <td>25</td>\n",
       "      <td>0</td>\n",
       "      <td>0</td>\n",
       "      <td>200</td>\n",
       "      <td>0</td>\n",
       "      <td>...</td>\n",
       "      <td>65700.0</td>\n",
       "      <td>20</td>\n",
       "      <td>1.0</td>\n",
       "      <td>1.0</td>\n",
       "      <td>36102</td>\n",
       "      <td>36030</td>\n",
       "      <td>20</td>\n",
       "      <td>1.0</td>\n",
       "      <td>64778</td>\n",
       "      <td>male</td>\n",
       "    </tr>\n",
       "    <tr>\n",
       "      <th>2</th>\n",
       "      <td>AAE0190</td>\n",
       "      <td>201003</td>\n",
       "      <td>0</td>\n",
       "      <td>0</td>\n",
       "      <td>0</td>\n",
       "      <td>68</td>\n",
       "      <td>0</td>\n",
       "      <td>0</td>\n",
       "      <td>235</td>\n",
       "      <td>0</td>\n",
       "      <td>...</td>\n",
       "      <td>65880.0</td>\n",
       "      <td>23</td>\n",
       "      <td>1.0</td>\n",
       "      <td>1.0</td>\n",
       "      <td>36268</td>\n",
       "      <td>36360</td>\n",
       "      <td>23</td>\n",
       "      <td>1.0</td>\n",
       "      <td>64778</td>\n",
       "      <td>male</td>\n",
       "    </tr>\n",
       "    <tr>\n",
       "      <th>3</th>\n",
       "      <td>AAE0190</td>\n",
       "      <td>201004</td>\n",
       "      <td>0</td>\n",
       "      <td>0</td>\n",
       "      <td>0</td>\n",
       "      <td>50</td>\n",
       "      <td>0</td>\n",
       "      <td>0</td>\n",
       "      <td>222</td>\n",
       "      <td>0</td>\n",
       "      <td>...</td>\n",
       "      <td>65760.0</td>\n",
       "      <td>21</td>\n",
       "      <td>1.0</td>\n",
       "      <td>1.0</td>\n",
       "      <td>36374</td>\n",
       "      <td>36480</td>\n",
       "      <td>21</td>\n",
       "      <td>1.0</td>\n",
       "      <td>64778</td>\n",
       "      <td>male</td>\n",
       "    </tr>\n",
       "    <tr>\n",
       "      <th>4</th>\n",
       "      <td>AAE0190</td>\n",
       "      <td>201005</td>\n",
       "      <td>0</td>\n",
       "      <td>0</td>\n",
       "      <td>0</td>\n",
       "      <td>44</td>\n",
       "      <td>0</td>\n",
       "      <td>0</td>\n",
       "      <td>186</td>\n",
       "      <td>0</td>\n",
       "      <td>...</td>\n",
       "      <td>65760.0</td>\n",
       "      <td>20</td>\n",
       "      <td>1.0</td>\n",
       "      <td>1.0</td>\n",
       "      <td>36363</td>\n",
       "      <td>36420</td>\n",
       "      <td>20</td>\n",
       "      <td>1.0</td>\n",
       "      <td>64778</td>\n",
       "      <td>male</td>\n",
       "    </tr>\n",
       "  </tbody>\n",
       "</table>\n",
       "<p>5 rows × 90 columns</p>\n",
       "</div>"
      ],
      "text/plain": [
       "      user  period  leak_risk_cnt  leak_we_cnt  leak_off_hr_cnt  \\\n",
       "0  AAE0190  201001              0            0                0   \n",
       "1  AAE0190  201002              0            0                0   \n",
       "2  AAE0190  201003              0            0                0   \n",
       "3  AAE0190  201004              0            0                0   \n",
       "4  AAE0190  201005              0            0                0   \n",
       "\n",
       "   thief_risk_cnt  thief_we_cnt  thief_off_hr_cnt  sabotage_risk_cnt  \\\n",
       "0              45             0                 0                161   \n",
       "1              25             0                 0                200   \n",
       "2              68             0                 0                235   \n",
       "3              50             0                 0                222   \n",
       "4              44             0                 0                186   \n",
       "\n",
       "   sabotage_we_cnt  ...  med_max_logoff  cnt_logoff  avg_cnt_logoff  \\\n",
       "0                0  ...         66030.0          20             1.0   \n",
       "1                0  ...         65700.0          20             1.0   \n",
       "2                0  ...         65880.0          23             1.0   \n",
       "3                0  ...         65760.0          21             1.0   \n",
       "4                0  ...         65760.0          20             1.0   \n",
       "\n",
       "   med_cnt_logoff  avg_logged_time  med_logged_time  cnt_unauthorized_log  \\\n",
       "0             1.0            36420            36570                    20   \n",
       "1             1.0            36102            36030                    20   \n",
       "2             1.0            36268            36360                    23   \n",
       "3             1.0            36374            36480                    21   \n",
       "4             1.0            36363            36420                    20   \n",
       "\n",
       "   isSupervisor  mean_salary  gender  \n",
       "0           1.0        64778    male  \n",
       "1           1.0        64778    male  \n",
       "2           1.0        64778    male  \n",
       "3           1.0        64778    male  \n",
       "4           1.0        64778    male  \n",
       "\n",
       "[5 rows x 90 columns]"
      ]
     },
     "execution_count": 34,
     "metadata": {
      "tags": []
     },
     "output_type": "execute_result"
    }
   ],
   "source": [
    "#merging for the final data set\n",
    "f1 = f1.merge(sx, on = [\"user\"], how = \"left\")\n",
    "f1.head()"
   ]
  },
  {
   "cell_type": "code",
   "execution_count": 0,
   "metadata": {
    "colab": {},
    "colab_type": "code",
    "id": "5VAdxwk6ccfq",
    "outputId": "b06b15bd-3243-4dc7-abd7-7e163d9643ef"
   },
   "outputs": [
    {
     "data": {
      "text/plain": [
       "Index(['user', 'period', 'leak_risk_cnt', 'leak_we_cnt', 'leak_off_hr_cnt',\n",
       "       'thief_risk_cnt', 'thief_we_cnt', 'thief_off_hr_cnt',\n",
       "       'sabotage_risk_cnt', 'sabotage_we_cnt', 'sabotage_off_hr_cnt', 'adv',\n",
       "       'astronomy', 'banking', 'cars', 'chat', 'cooking', 'dating',\n",
       "       'downloads', 'drugs', 'forum', 'gamble', 'games-misc', 'games-online',\n",
       "       'government', 'hacking', 'homestyle', 'humor', 'imagehosting', 'isp',\n",
       "       'jobsearch', 'leaks', 'library', 'lingerie', 'moneylending', 'movies',\n",
       "       'music', 'news', 'other', 'planes', 'podcasts', 'porn', 'radiotv',\n",
       "       'realestate', 'redirector', 'religion', 'remotecontrol', 'restaurants',\n",
       "       'searchengines', 'shipping', 'shopping', 'socialnet', 'sports',\n",
       "       'spyware', 'telecommunication', 'tracker', 'trading', 'travel',\n",
       "       'updatesites', 'urlshortener', 'warez', 'webmail', 'webphone',\n",
       "       'webradio', 'webtv', 'wellness', 'competitor_cnt', 'device_count',\n",
       "       'file_count', 'executable_count', 'sentiment_email', 'http_sentiment',\n",
       "       'min_logon', 'avg_min_logon', 'med_min_logon', 'cnt_logon',\n",
       "       'avg_cnt_logon', 'med_cnt_logon', 'max_logoff', 'avg_max_logoff',\n",
       "       'med_max_logoff', 'cnt_logoff', 'avg_cnt_logoff', 'med_cnt_logoff',\n",
       "       'avg_logged_time', 'med_logged_time', 'cnt_unauthorized_log',\n",
       "       'isSupervisor', 'mean_salary', 'gender'],\n",
       "      dtype='object')"
      ]
     },
     "execution_count": 35,
     "metadata": {
      "tags": []
     },
     "output_type": "execute_result"
    }
   ],
   "source": [
    "f1.columns"
   ]
  },
  {
   "cell_type": "markdown",
   "metadata": {
    "colab_type": "text",
    "id": "WtPI0lg9ccfw"
   },
   "source": [
    "# Confirmed cases"
   ]
  },
  {
   "cell_type": "code",
   "execution_count": 0,
   "metadata": {
    "colab": {},
    "colab_type": "code",
    "id": "2ilMM6Y4ccfw"
   },
   "outputs": [],
   "source": [
    "#reading the confirmed cases to set as the label of observed insiders\n",
    "cc = pd.read_csv(pth + \"insider_confirmed_cases.csv\", index_col = 0)\n",
    "cc.columns = [\"user\", \"period\"]\n",
    "cc[\"isInsider\"] = 1"
   ]
  },
  {
   "cell_type": "code",
   "execution_count": 0,
   "metadata": {
    "colab": {},
    "colab_type": "code",
    "id": "s9kJCmRCccf0",
    "outputId": "2845246d-70db-4dc7-d59f-ce51e2f2e85e"
   },
   "outputs": [
    {
     "data": {
      "text/plain": [
       "(128, 3)"
      ]
     },
     "execution_count": 56,
     "metadata": {
      "tags": []
     },
     "output_type": "execute_result"
    }
   ],
   "source": [
    "cc.shape"
   ]
  },
  {
   "cell_type": "code",
   "execution_count": 0,
   "metadata": {
    "colab": {},
    "colab_type": "code",
    "id": "UVmtL4Tbccf5",
    "outputId": "281eb506-6005-45da-defb-224df32fec19"
   },
   "outputs": [
    {
     "data": {
      "text/html": [
       "<div>\n",
       "<style scoped>\n",
       "    .dataframe tbody tr th:only-of-type {\n",
       "        vertical-align: middle;\n",
       "    }\n",
       "\n",
       "    .dataframe tbody tr th {\n",
       "        vertical-align: top;\n",
       "    }\n",
       "\n",
       "    .dataframe thead th {\n",
       "        text-align: right;\n",
       "    }\n",
       "</style>\n",
       "<table border=\"1\" class=\"dataframe\">\n",
       "  <thead>\n",
       "    <tr style=\"text-align: right;\">\n",
       "      <th></th>\n",
       "      <th>user</th>\n",
       "      <th>period</th>\n",
       "      <th>isInsider</th>\n",
       "    </tr>\n",
       "  </thead>\n",
       "  <tbody>\n",
       "    <tr>\n",
       "      <th>0</th>\n",
       "      <td>AAM0658</td>\n",
       "      <td>201010</td>\n",
       "      <td>1</td>\n",
       "    </tr>\n",
       "    <tr>\n",
       "      <th>1</th>\n",
       "      <td>AJR0932</td>\n",
       "      <td>201009</td>\n",
       "      <td>1</td>\n",
       "    </tr>\n",
       "    <tr>\n",
       "      <th>2</th>\n",
       "      <td>BDV0168</td>\n",
       "      <td>201007</td>\n",
       "      <td>1</td>\n",
       "    </tr>\n",
       "    <tr>\n",
       "      <th>3</th>\n",
       "      <td>BDV0168</td>\n",
       "      <td>201008</td>\n",
       "      <td>1</td>\n",
       "    </tr>\n",
       "    <tr>\n",
       "      <th>4</th>\n",
       "      <td>BIH0745</td>\n",
       "      <td>201007</td>\n",
       "      <td>1</td>\n",
       "    </tr>\n",
       "  </tbody>\n",
       "</table>\n",
       "</div>"
      ],
      "text/plain": [
       "      user  period  isInsider\n",
       "0  AAM0658  201010          1\n",
       "1  AJR0932  201009          1\n",
       "2  BDV0168  201007          1\n",
       "3  BDV0168  201008          1\n",
       "4  BIH0745  201007          1"
      ]
     },
     "execution_count": 57,
     "metadata": {
      "tags": []
     },
     "output_type": "execute_result"
    }
   ],
   "source": [
    "cc.head()"
   ]
  },
  {
   "cell_type": "code",
   "execution_count": 0,
   "metadata": {
    "colab": {},
    "colab_type": "code",
    "id": "Fqw9jkAnccgR"
   },
   "outputs": [],
   "source": [
    "#merging to set the insiders\n",
    "f1 = f1.merge(cc, on = [\"user\"], how = \"left\")"
   ]
  },
  {
   "cell_type": "code",
   "execution_count": 0,
   "metadata": {
    "colab": {},
    "colab_type": "code",
    "id": "Y6Igi0dtccgY"
   },
   "outputs": [],
   "source": [
    "#filling null observations, this would lead us to see them as not insiders\n",
    "f1.fillna(0, inplace = True)"
   ]
  },
  {
   "cell_type": "code",
   "execution_count": 0,
   "metadata": {
    "colab": {},
    "colab_type": "code",
    "id": "WDNFXSVDccgf",
    "outputId": "5440077a-62b5-4f79-88f9-32f32272cd90"
   },
   "outputs": [
    {
     "data": {
      "text/plain": [
       "0.0    15139\n",
       "1.0     1428\n",
       "Name: isInsider, dtype: int64"
      ]
     },
     "execution_count": 77,
     "metadata": {
      "tags": []
     },
     "output_type": "execute_result"
    }
   ],
   "source": [
    "#final label balance\n",
    "f1[\"isInsider\"].value_counts()"
   ]
  },
  {
   "cell_type": "code",
   "execution_count": 0,
   "metadata": {
    "colab": {},
    "colab_type": "code",
    "id": "55afGbh1ccgl"
   },
   "outputs": [],
   "source": [
    "#This would be the source file to sample, model and test\n",
    "f1.to_csv(pth + \"InsiderDataMart.csv\")"
   ]
  }
 ],
 "metadata": {
  "colab": {
   "name": "InsiderTrading_20200323_etl2.ipynb",
   "provenance": []
  },
  "kernelspec": {
   "display_name": "Python 3",
   "language": "python",
   "name": "python3"
  },
  "language_info": {
   "codemirror_mode": {
    "name": "ipython",
    "version": 3
   },
   "file_extension": ".py",
   "mimetype": "text/x-python",
   "name": "python",
   "nbconvert_exporter": "python",
   "pygments_lexer": "ipython3",
   "version": "3.5.6"
  }
 },
 "nbformat": 4,
 "nbformat_minor": 1
}
