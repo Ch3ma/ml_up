{
 "cells": [
  {
   "cell_type": "markdown",
   "metadata": {
    "colab_type": "text",
    "id": "jWIxspV_5gP4"
   },
   "source": [
    "# Modelling"
   ]
  },
  {
   "cell_type": "code",
   "execution_count": 0,
   "metadata": {
    "colab": {},
    "colab_type": "code",
    "id": "9oplqPCn5fxA"
   },
   "outputs": [],
   "source": [
    "import pandas as pd\n",
    "import numpy as np"
   ]
  },
  {
   "cell_type": "code",
   "execution_count": 0,
   "metadata": {
    "colab": {},
    "colab_type": "code",
    "id": "1gpUIjVb5cUd"
   },
   "outputs": [],
   "source": [
    "pth = \"./drive/My Drive/DatosInsider/DWH_tables/\""
   ]
  },
  {
   "cell_type": "code",
   "execution_count": 0,
   "metadata": {
    "colab": {},
    "colab_type": "code",
    "id": "ujxXcDbp9HBN"
   },
   "outputs": [],
   "source": [
    "train_x = pd.read_csv(pth + \"ins_train_x_resampled.csv\")\n",
    "train_y = pd.read_csv(pth + \"ins_train_y_resampled.csv\")"
   ]
  },
  {
   "cell_type": "code",
   "execution_count": 0,
   "metadata": {
    "colab": {},
    "colab_type": "code",
    "id": "nhU63_GPVstd"
   },
   "outputs": [],
   "source": [
    "#dropping period\n",
    "train_x.drop([\"period\"], axis = 1, inplace = True)"
   ]
  },
  {
   "cell_type": "markdown",
   "metadata": {
    "colab_type": "text",
    "id": "Da8KC-34UtRy"
   },
   "source": []
  },
  {
   "cell_type": "code",
   "execution_count": 0,
   "metadata": {
    "colab": {},
    "colab_type": "code",
    "id": "MGiffn4sl9ZC"
   },
   "outputs": [],
   "source": [
    "#data scaling\n",
    "from sklearn.preprocessing import StandardScaler\n",
    "\n",
    "std_model = StandardScaler()\n",
    "std_model.fit(train_x)\n",
    "train_x_scaled = pd.DataFrame(std_model.transform(train_x))"
   ]
  },
  {
   "cell_type": "code",
   "execution_count": 0,
   "metadata": {
    "colab": {
     "base_uri": "https://localhost:8080/",
     "height": 50
    },
    "colab_type": "code",
    "id": "Zxsrkx13jVBd",
    "outputId": "37a7a4ee-0b14-414c-8067-3e7dbc858878"
   },
   "outputs": [
    {
     "name": "stdout",
     "output_type": "stream",
     "text": [
      "CPU times: user 1min 37s, sys: 37.9 s, total: 2min 14s\n",
      "Wall time: 1min 30s\n"
     ]
    }
   ],
   "source": [
    "%%time\n",
    "from sklearn.feature_selection import RFECV\n",
    "from sklearn.linear_model import SGDClassifier\n",
    "\n",
    "\n",
    "estimator = SGDClassifier(max_iter=10000, tol = 1e-3, random_state = 666)\n",
    "selector = RFECV(estimator, step=1, cv=5,)\n",
    "selector = selector.fit(train_x_scaled, np.ravel(train_y))\n",
    "selector.support_\n",
    "\n"
   ]
  },
  {
   "cell_type": "code",
   "execution_count": 0,
   "metadata": {
    "colab": {
     "base_uri": "https://localhost:8080/",
     "height": 185
    },
    "colab_type": "code",
    "id": "NqyUeWwE9G4D",
    "outputId": "7ee3fe52-14c2-452c-e943-cb056331b8a7"
   },
   "outputs": [
    {
     "data": {
      "text/plain": [
       "array([ True,  True,  True, False,  True,  True,  True, False,  True,\n",
       "        True,  True,  True,  True,  True, False,  True,  True, False,\n",
       "       False,  True,  True,  True,  True,  True, False, False,  True,\n",
       "       False, False,  True, False,  True, False, False, False,  True,\n",
       "        True, False, False, False,  True,  True,  True, False,  True,\n",
       "        True,  True,  True, False, False, False,  True,  True,  True,\n",
       "       False,  True,  True,  True,  True,  True, False,  True,  True,\n",
       "        True, False,  True,  True, False, False, False,  True,  True,\n",
       "        True, False, False,  True,  True,  True,  True, False, False,\n",
       "        True,  True,  True,  True,  True,  True,  True])"
      ]
     },
     "execution_count": 16,
     "metadata": {
      "tags": []
     },
     "output_type": "execute_result"
    }
   ],
   "source": [
    "selector.support_\n"
   ]
  },
  {
   "cell_type": "code",
   "execution_count": 0,
   "metadata": {
    "colab": {
     "base_uri": "https://localhost:8080/",
     "height": 252
    },
    "colab_type": "code",
    "id": "_-vqwbol9Gz4",
    "outputId": "e3c78c9b-5cfb-4c97-9ae5-a3ded2a477fe"
   },
   "outputs": [
    {
     "data": {
      "text/plain": [
       "Index(['leak_risk_cnt', 'leak_we_cnt', 'leak_off_hr_cnt', 'thief_we_cnt',\n",
       "       'thief_off_hr_cnt', 'sabotage_risk_cnt', 'sabotage_off_hr_cnt', 'adv',\n",
       "       'astronomy', 'banking', 'cars', 'chat', 'dating', 'downloads', 'gamble',\n",
       "       'games-misc', 'games-online', 'government', 'hacking', 'imagehosting',\n",
       "       'leaks', 'lingerie', 'news', 'other', 'radiotv', 'realestate',\n",
       "       'redirector', 'remotecontrol', 'restaurants', 'searchengines',\n",
       "       'shipping', 'spyware', 'telecommunication', 'tracker', 'travel',\n",
       "       'updatesites', 'urlshortener', 'warez', 'webmail', 'webradio', 'webtv',\n",
       "       'wellness', 'device_count', 'file_count', 'min_logon', 'avg_min_logon',\n",
       "       'med_min_logon', 'med_cnt_logon', 'max_logoff', 'avg_max_logoff',\n",
       "       'med_max_logoff', 'med_cnt_logoff', 'avg_logged_time',\n",
       "       'med_logged_time', 'cnt_unauthorized_log', 'isSupervisor',\n",
       "       'mean_salary', 'gender'],\n",
       "      dtype='object')"
      ]
     },
     "execution_count": 17,
     "metadata": {
      "tags": []
     },
     "output_type": "execute_result"
    }
   ],
   "source": [
    "selected_vars = train_x.columns[selector.support_]\n",
    "selected_vars"
   ]
  },
  {
   "cell_type": "markdown",
   "metadata": {
    "colab_type": "text",
    "id": "yReiIvnSlZ_s"
   },
   "source": [
    "# SGDClassifier\n"
   ]
  },
  {
   "cell_type": "code",
   "execution_count": 0,
   "metadata": {
    "colab": {
     "base_uri": "https://localhost:8080/",
     "height": 118
    },
    "colab_type": "code",
    "id": "2iz8JpARlWU_",
    "outputId": "fafc1121-d3dd-454c-d48f-9dad0ccb61d5"
   },
   "outputs": [
    {
     "data": {
      "text/plain": [
       "SGDClassifier(alpha=0.0001, average=False, class_weight=None,\n",
       "              early_stopping=False, epsilon=0.1, eta0=0.0, fit_intercept=True,\n",
       "              l1_ratio=0.15, learning_rate='optimal', loss='hinge',\n",
       "              max_iter=10000, n_iter_no_change=5, n_jobs=None, penalty='l2',\n",
       "              power_t=0.5, random_state=666, shuffle=True, tol=0.001,\n",
       "              validation_fraction=0.1, verbose=0, warm_start=False)"
      ]
     },
     "execution_count": 18,
     "metadata": {
      "tags": []
     },
     "output_type": "execute_result"
    }
   ],
   "source": [
    "model = SGDClassifier(max_iter=10000, tol = 1e-3, random_state = 666)\n",
    "model.fit(train_x_scaled.loc[:,selector.support_], np.ravel(train_y))"
   ]
  },
  {
   "cell_type": "code",
   "execution_count": 0,
   "metadata": {
    "colab": {
     "base_uri": "https://localhost:8080/",
     "height": 34
    },
    "colab_type": "code",
    "id": "kamR2cj_oJUm",
    "outputId": "ed18a330-ab14-425f-89bd-d55cfb4236e9"
   },
   "outputs": [
    {
     "data": {
      "text/plain": [
       "0.8871352333371182"
      ]
     },
     "execution_count": 19,
     "metadata": {
      "tags": []
     },
     "output_type": "execute_result"
    }
   ],
   "source": [
    "model.score(train_x_scaled.loc[:,selector.support_], np.ravel(train_y))"
   ]
  },
  {
   "cell_type": "markdown",
   "metadata": {
    "colab_type": "text",
    "id": "AP0uEGpyo4i5"
   },
   "source": [
    "# Trying in testing"
   ]
  },
  {
   "cell_type": "code",
   "execution_count": 0,
   "metadata": {
    "colab": {},
    "colab_type": "code",
    "id": "WSkwX7Zo9GxY"
   },
   "outputs": [],
   "source": [
    "test_x = pd.read_csv(pth + \"ins_test_x.csv\")\n",
    "test_y = pd.read_csv(pth + \"ins_test_y.csv\", header=None)\n",
    "\n",
    "test_x.drop([\"period\"], axis = 1, inplace = True)"
   ]
  },
  {
   "cell_type": "code",
   "execution_count": 0,
   "metadata": {
    "colab": {},
    "colab_type": "code",
    "id": "PetW3YeIxfUQ"
   },
   "outputs": [],
   "source": []
  },
  {
   "cell_type": "code",
   "execution_count": 0,
   "metadata": {
    "colab": {},
    "colab_type": "code",
    "id": "yJICbctClXgw"
   },
   "outputs": [],
   "source": [
    "test_x_scaled = pd.DataFrame(std_model.transform(test_x))"
   ]
  },
  {
   "cell_type": "code",
   "execution_count": 0,
   "metadata": {
    "colab": {},
    "colab_type": "code",
    "id": "oFEdp19HlXmE"
   },
   "outputs": [],
   "source": [
    "y_pred = model.predict(test_x_scaled.loc[:,selector.support_])"
   ]
  },
  {
   "cell_type": "code",
   "execution_count": 0,
   "metadata": {
    "colab": {
     "base_uri": "https://localhost:8080/",
     "height": 168
    },
    "colab_type": "code",
    "id": "CurfaIhllXoP",
    "outputId": "7c827ab1-b822-4413-d28d-83f708a09c7d"
   },
   "outputs": [
    {
     "name": "stdout",
     "output_type": "stream",
     "text": [
      "              precision    recall  f1-score   support\n",
      "\n",
      "         0.0       0.98      0.91      0.94      3775\n",
      "         1.0       0.51      0.81      0.62       418\n",
      "\n",
      "    accuracy                           0.90      4193\n",
      "   macro avg       0.74      0.86      0.78      4193\n",
      "weighted avg       0.93      0.90      0.91      4193\n",
      "\n"
     ]
    }
   ],
   "source": [
    "from sklearn.metrics import classification_report\n",
    "\n",
    "print(classification_report(test_y,y_pred))"
   ]
  },
  {
   "cell_type": "code",
   "execution_count": 0,
   "metadata": {
    "colab": {
     "base_uri": "https://localhost:8080/",
     "height": 34
    },
    "colab_type": "code",
    "id": "p-wWqnn1J9E9",
    "outputId": "54ab9c3c-96c1-4260-af4d-c8b13652dd4a"
   },
   "outputs": [
    {
     "data": {
      "text/plain": [
       "0.862058683735226"
      ]
     },
     "execution_count": 26,
     "metadata": {
      "tags": []
     },
     "output_type": "execute_result"
    }
   ],
   "source": [
    "from sklearn.metrics import recall_score\n",
    "recall_score(test_y, y_pred, average=\"macro\")"
   ]
  },
  {
   "cell_type": "code",
   "execution_count": 0,
   "metadata": {
    "colab": {
     "base_uri": "https://localhost:8080/",
     "height": 185
    },
    "colab_type": "code",
    "id": "k0tEAc6tlXqO",
    "outputId": "d2fdaffb-1e80-466d-fcff-9a68c41a3d4c"
   },
   "outputs": [
    {
     "name": "stdout",
     "output_type": "stream",
     "text": [
      "done in 32.266s\n",
      "Best estimator found by grid search:\n",
      "SGDClassifier(alpha=0.0001, average=False, class_weight=None,\n",
      "              early_stopping=False, epsilon=0.1, eta0=0.0, fit_intercept=True,\n",
      "              l1_ratio=0.15, learning_rate='optimal', loss='hinge',\n",
      "              max_iter=1000, n_iter_no_change=5, n_jobs=-1, penalty='l1',\n",
      "              power_t=0.5, random_state=666, shuffle=True, tol=0.001,\n",
      "              validation_fraction=0.1, verbose=0, warm_start=False)\n",
      "CPU times: user 33.3 s, sys: 6.07 s, total: 39.4 s\n",
      "Wall time: 32.3 s\n"
     ]
    }
   ],
   "source": [
    "##hyperfitting \n",
    "%%time\n",
    "from sklearn.model_selection import GridSearchCV\n",
    "import time\n",
    "\n",
    "t0 = time.time()\n",
    "\n",
    "param_grid = {'loss': ['hinge', 'log', 'squared_hinge', 'perceptron'],\n",
    "              'penalty': ['l2', 'l1', 'elasticnet'], \n",
    "              'n_jobs' : [-1],\n",
    "              'random_state' : [666]\n",
    "              }\n",
    "clf = GridSearchCV(\n",
    "    SGDClassifier(), param_grid\n",
    ")\n",
    "\n",
    "clf = clf.fit(train_x_scaled.loc[:,selector.support_], np.ravel(train_y))\n",
    "print(\"done in %0.3fs\" % (time.time() - t0))\n",
    "print(\"Best estimator found by grid search:\")\n",
    "print(clf.best_estimator_)"
   ]
  },
  {
   "cell_type": "code",
   "execution_count": 0,
   "metadata": {
    "colab": {
     "base_uri": "https://localhost:8080/",
     "height": 168
    },
    "colab_type": "code",
    "id": "4F06MUb2lXjv",
    "outputId": "fd668ea1-399e-48c7-d47b-799091f321b0"
   },
   "outputs": [
    {
     "name": "stdout",
     "output_type": "stream",
     "text": [
      "              precision    recall  f1-score   support\n",
      "\n",
      "         0.0       0.97      0.92      0.94      3775\n",
      "         1.0       0.51      0.78      0.62       418\n",
      "\n",
      "    accuracy                           0.90      4193\n",
      "   macro avg       0.74      0.85      0.78      4193\n",
      "weighted avg       0.93      0.90      0.91      4193\n",
      "\n"
     ]
    }
   ],
   "source": [
    "y_pred_clf = clf.predict(test_x_scaled.loc[:,selector.support_])\n",
    "\n",
    "print(classification_report(test_y,y_pred_clf))"
   ]
  },
  {
   "cell_type": "markdown",
   "metadata": {
    "colab_type": "text",
    "id": "87DNPCwoEiHF"
   },
   "source": [
    "# Out of time test"
   ]
  },
  {
   "cell_type": "code",
   "execution_count": 0,
   "metadata": {
    "colab": {},
    "colab_type": "code",
    "id": "j3By_qvsECwx"
   },
   "outputs": [],
   "source": [
    "#out of time test\n",
    "insider_oot = pd.read_csv(pth + \"insider_OOT.csv\")\n",
    "insider_oot.head()\n",
    "\n",
    "test_x_oot = insider_oot.drop([\"period\", \"isInsider\"], axis = 1)\n",
    "test_y_oot = insider_oot[\"isInsider\"]\n",
    "\n",
    "test_x_oot_scaled = pd.DataFrame(std_model.transform(test_x_oot))"
   ]
  },
  {
   "cell_type": "code",
   "execution_count": 0,
   "metadata": {
    "colab": {},
    "colab_type": "code",
    "id": "5Ld-i0GpEnaZ"
   },
   "outputs": [],
   "source": [
    "y_pred_oot = clf.predict(test_x_oot_scaled.loc[:,selector.support_])"
   ]
  },
  {
   "cell_type": "code",
   "execution_count": 0,
   "metadata": {
    "colab": {
     "base_uri": "https://localhost:8080/",
     "height": 168
    },
    "colab_type": "code",
    "id": "A98fdWTMCJf8",
    "outputId": "5331f262-1d69-4aa4-e676-eb26a662ff91"
   },
   "outputs": [
    {
     "name": "stdout",
     "output_type": "stream",
     "text": [
      "              precision    recall  f1-score   support\n",
      "\n",
      "         0.0       1.00      0.83      0.90      2557\n",
      "         1.0       0.07      1.00      0.14        35\n",
      "\n",
      "    accuracy                           0.83      2592\n",
      "   macro avg       0.54      0.91      0.52      2592\n",
      "weighted avg       0.99      0.83      0.89      2592\n",
      "\n"
     ]
    }
   ],
   "source": [
    "print(classification_report(test_y_oot,y_pred_oot))"
   ]
  },
  {
   "cell_type": "code",
   "execution_count": 0,
   "metadata": {
    "colab": {},
    "colab_type": "code",
    "id": "EI_fz74cH7WF"
   },
   "outputs": [],
   "source": [
    "import pickle\n",
    "mdlpth = \"./drive/My Drive/DatosInsider/Models/\"\n",
    "pickle.dump(model, open(mdlpth + \"SGDClassifier_StandardScaler\", 'wb'))\n",
    "pickle.dump(model, open(mdlpth + \"SGDClassifier_Default.model\", 'wb'))\n",
    "pickle.dump(clf, open(mdlpth + \"SGDClassifier_GridSearch.model\", 'wb'))"
   ]
  },
  {
   "cell_type": "markdown",
   "metadata": {
    "colab_type": "text",
    "id": "ePvk_6MYI_mE"
   },
   "source": [
    "# XGBoost"
   ]
  },
  {
   "cell_type": "code",
   "execution_count": 0,
   "metadata": {
    "colab": {
     "base_uri": "https://localhost:8080/",
     "height": 67
    },
    "colab_type": "code",
    "id": "343NPJXqIszE",
    "outputId": "2d4d15c3-6a1d-4ed9-c045-7232d75bd3ef"
   },
   "outputs": [
    {
     "name": "stdout",
     "output_type": "stream",
     "text": [
      "Requirement already satisfied: xgboost in /usr/local/lib/python3.6/dist-packages (0.90)\n",
      "Requirement already satisfied: scipy in /usr/local/lib/python3.6/dist-packages (from xgboost) (1.4.1)\n",
      "Requirement already satisfied: numpy in /usr/local/lib/python3.6/dist-packages (from xgboost) (1.18.2)\n"
     ]
    }
   ],
   "source": [
    "!pip install xgboost"
   ]
  },
  {
   "cell_type": "code",
   "execution_count": 0,
   "metadata": {
    "colab": {},
    "colab_type": "code",
    "id": "XhIO7DquJLnG"
   },
   "outputs": [],
   "source": [
    "from xgboost import XGBClassifier"
   ]
  },
  {
   "cell_type": "code",
   "execution_count": 0,
   "metadata": {
    "colab": {
     "base_uri": "https://localhost:8080/",
     "height": 134
    },
    "colab_type": "code",
    "id": "zuLeiGIGJLpj",
    "outputId": "8f0f4c3a-6c44-4956-ecb9-9c766d2924db"
   },
   "outputs": [
    {
     "data": {
      "text/plain": [
       "XGBClassifier(base_score=0.5, booster='gbtree', colsample_bylevel=1,\n",
       "              colsample_bynode=1, colsample_bytree=1, gamma=0,\n",
       "              learning_rate=0.1, max_delta_step=0, max_depth=3,\n",
       "              min_child_weight=1, missing=None, n_estimators=100, n_jobs=1,\n",
       "              nthread=None, objective='binary:logistic', random_state=666,\n",
       "              reg_alpha=0, reg_lambda=1, scale_pos_weight=1, seed=None,\n",
       "              silent=None, subsample=1, verbosity=1)"
      ]
     },
     "execution_count": 23,
     "metadata": {
      "tags": []
     },
     "output_type": "execute_result"
    }
   ],
   "source": [
    "model_xgb = XGBClassifier(random_state = 666)\n",
    "model_xgb.fit(train_x_scaled.loc[:,selector.support_], np.ravel(train_y))"
   ]
  },
  {
   "cell_type": "code",
   "execution_count": 0,
   "metadata": {
    "colab": {
     "base_uri": "https://localhost:8080/",
     "height": 168
    },
    "colab_type": "code",
    "id": "DmgPbJBhJLr0",
    "outputId": "d30c6fd5-abcd-411d-baaf-ef57c0250f6f"
   },
   "outputs": [
    {
     "name": "stdout",
     "output_type": "stream",
     "text": [
      "done in 257.076s\n",
      "Best estimator found by grid search:\n",
      "XGBClassifier(base_score=0.5, booster='gbtree', colsample_bylevel=1,\n",
      "              colsample_bynode=1, colsample_bytree=1, gamma=0,\n",
      "              learning_rate=0.1, max_delta_step=0, max_depth=6,\n",
      "              min_child_weight=1, missing=None, n_estimators=100, n_jobs=1,\n",
      "              nthread=None, objective='binary:logistic', random_state=0,\n",
      "              reg_alpha=0, reg_lambda=1, scale_pos_weight=1, seed=None,\n",
      "              silent=None, subsample=1, verbosity=1)\n"
     ]
    }
   ],
   "source": [
    "t0 = time.time()\n",
    "\n",
    "param_grid = {'booster': ['gbtree', 'gblinear', 'dart'],\n",
    "              'max_depth' : [3,4,5,6]\n",
    "              }\n",
    "clf_xgboost = GridSearchCV(\n",
    "    XGBClassifier(), param_grid\n",
    ")\n",
    "\n",
    "clf_xgboost = clf_xgboost.fit(train_x_scaled.loc[:,selector.support_], np.ravel(train_y))\n",
    "print(\"done in %0.3fs\" % (time.time() - t0))\n",
    "print(\"Best estimator found by grid search:\")\n",
    "print(clf_xgboost.best_estimator_)"
   ]
  },
  {
   "cell_type": "markdown",
   "metadata": {
    "colab_type": "text",
    "id": "VEBbQQkkEJeE"
   },
   "source": [
    "# Trying in testing\n"
   ]
  },
  {
   "cell_type": "code",
   "execution_count": 0,
   "metadata": {
    "colab": {},
    "colab_type": "code",
    "id": "Dv0FzfirEIlR"
   },
   "outputs": [],
   "source": [
    "y_pred_xg = model_xgb.predict(test_x_scaled.loc[:,selector.support_])"
   ]
  },
  {
   "cell_type": "code",
   "execution_count": 0,
   "metadata": {
    "colab": {
     "base_uri": "https://localhost:8080/",
     "height": 168
    },
    "colab_type": "code",
    "id": "COT9ngMLJLwU",
    "outputId": "7a2dd418-7b7d-4f0a-cd38-4efeb7322786"
   },
   "outputs": [
    {
     "name": "stdout",
     "output_type": "stream",
     "text": [
      "              precision    recall  f1-score   support\n",
      "\n",
      "         0.0       0.97      0.99      0.98      3775\n",
      "         1.0       0.90      0.72      0.80       418\n",
      "\n",
      "    accuracy                           0.96      4193\n",
      "   macro avg       0.93      0.85      0.89      4193\n",
      "weighted avg       0.96      0.96      0.96      4193\n",
      "\n"
     ]
    }
   ],
   "source": [
    "print(classification_report(test_y,y_pred_xg))"
   ]
  },
  {
   "cell_type": "code",
   "execution_count": 0,
   "metadata": {
    "colab": {
     "base_uri": "https://localhost:8080/",
     "height": 168
    },
    "colab_type": "code",
    "id": "ZrvXz4TcEvAA",
    "outputId": "42ba7a1e-9911-4ae4-8ef1-9891f206b1fd"
   },
   "outputs": [
    {
     "name": "stdout",
     "output_type": "stream",
     "text": [
      "              precision    recall  f1-score   support\n",
      "\n",
      "         0.0       0.98      1.00      0.99      3775\n",
      "         1.0       0.98      0.83      0.90       418\n",
      "\n",
      "    accuracy                           0.98      4193\n",
      "   macro avg       0.98      0.91      0.94      4193\n",
      "weighted avg       0.98      0.98      0.98      4193\n",
      "\n"
     ]
    }
   ],
   "source": [
    "y_pred_xg_clf = clf_xgboost.predict(test_x_scaled.loc[:,selector.support_])\n",
    "print(classification_report(test_y, y_pred_xg_clf))"
   ]
  },
  {
   "cell_type": "markdown",
   "metadata": {
    "colab_type": "text",
    "id": "edyJJFfGEls_"
   },
   "source": [
    "# Out of time test"
   ]
  },
  {
   "cell_type": "code",
   "execution_count": 0,
   "metadata": {
    "colab": {
     "base_uri": "https://localhost:8080/",
     "height": 168
    },
    "colab_type": "code",
    "id": "d41zLm-RECg9",
    "outputId": "624707a9-30f6-40ea-a084-f67096b81ed1"
   },
   "outputs": [
    {
     "name": "stdout",
     "output_type": "stream",
     "text": [
      "              precision    recall  f1-score   support\n",
      "\n",
      "         0.0       1.00      0.92      0.96      2557\n",
      "         1.0       0.14      0.94      0.24        35\n",
      "\n",
      "    accuracy                           0.92      2592\n",
      "   macro avg       0.57      0.93      0.60      2592\n",
      "weighted avg       0.99      0.92      0.95      2592\n",
      "\n"
     ]
    }
   ],
   "source": [
    "y_pred_oot_xgb = model_xgb.predict(test_x_oot_scaled.loc[:,selector.support_])\n",
    "print(classification_report(test_y_oot, y_pred_oot_xgb))"
   ]
  },
  {
   "cell_type": "code",
   "execution_count": 0,
   "metadata": {
    "colab": {},
    "colab_type": "code",
    "id": "feU2noV1ECew"
   },
   "outputs": [],
   "source": [
    "pickle.dump(model, open(model_xgb + \"XGBoost.model\", 'wb'))\n",
    "pickle.dump(clf, open(clf_xgboost + \"xgboost_GridSearch.model\", 'wb'))"
   ]
  },
  {
   "cell_type": "code",
   "execution_count": 0,
   "metadata": {
    "colab": {},
    "colab_type": "code",
    "id": "Qdt1cbm7ECcd"
   },
   "outputs": [],
   "source": []
  },
  {
   "cell_type": "code",
   "execution_count": 0,
   "metadata": {
    "colab": {},
    "colab_type": "code",
    "id": "n6EYvwdlJLyp"
   },
   "outputs": [],
   "source": []
  }
 ],
 "metadata": {
  "colab": {
   "collapsed_sections": [],
   "name": "InsiderTrading_20200324_modelling.ipynb",
   "provenance": [],
   "toc_visible": true
  },
  "kernelspec": {
   "display_name": "Python 3",
   "language": "python",
   "name": "python3"
  },
  "language_info": {
   "codemirror_mode": {
    "name": "ipython",
    "version": 3
   },
   "file_extension": ".py",
   "mimetype": "text/x-python",
   "name": "python",
   "nbconvert_exporter": "python",
   "pygments_lexer": "ipython3",
   "version": "3.5.6"
  }
 },
 "nbformat": 4,
 "nbformat_minor": 1
}
